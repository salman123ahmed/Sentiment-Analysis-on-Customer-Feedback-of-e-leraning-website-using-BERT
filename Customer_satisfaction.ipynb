{
 "cells": [
  {
   "cell_type": "markdown",
   "metadata": {},
   "source": [
    "# Improving customer satisfaction : Sentiment Analysis on Customer Feedback for an App Designed for Online Classes and Video Conferencing Using BERT"
   ]
  },
  {
   "cell_type": "markdown",
   "metadata": {},
   "source": [
    "## Abstract"
   ]
  },
  {
   "cell_type": "markdown",
   "metadata": {},
   "source": [
    "In this project, we analyzed customer feedback for an app designed for online classes and video conferencing. We performed sentiment analysis on the text data and created a new label column to balance the dataset, as all original labels were positive. We also generated negative samples from positive samples to increase the size of the negative class. The resulting dataset was balanced by oversampling the positive class. We split the dataset into train and test using the train_test_split function and trained a BERT base classifier model on the training data. Finally, we evaluated the performance of the model on the test data using the classification report, which showed an overall accuracy of 84%."
   ]
  },
  {
   "cell_type": "markdown",
   "metadata": {},
   "source": [
    "## Problem Statement:"
   ]
  },
  {
   "cell_type": "markdown",
   "metadata": {},
   "source": [
    "\n",
    "The goal of this project is to perform sentiment analysis on customer feedback for an app designed for online classes and video conferencing. The original dataset had only positive labels, which needed to be balanced by generating negative samples from positive ones. We used the resulting dataset to train a BERT base classifier model to predict the sentiment of customer feedback accurately. The model's performance was evaluated on the test data, and we aimed to achieve a high accuracy score."
   ]
  },
  {
   "cell_type": "markdown",
   "metadata": {},
   "source": [
    "## Table of Contents\n",
    "\n",
    "* [Sentiment analysis and labeling using VADER](#section-1)\n",
    "* [Exploratory Data Analysis](#section-2)\n",
    "* [Negation Generation for Positive Examples](#section-3)\n",
    "* [Oversampling to Address Class Imbalance in a Dataset](#section-4)\n",
    "* [Train test split](#section-5)\n",
    "* [BERT Preprocessing and Encoding Layers Initialization](#section-6)\n",
    "* [Model Compilation and Metrics Selection](#section-7)\n",
    "* [Model Training ](#section-8)\n",
    "* [Model Evaluation](#section-9)\n",
    "* [Summary](#section-10)\n",
    "* [References](#section-11)\n"
   ]
  },
  {
   "cell_type": "code",
   "execution_count": 1,
   "metadata": {
    "colab": {
     "base_uri": "https://localhost:8080/"
    },
    "id": "b7qOP9fFrZUI",
    "outputId": "f2d23cd8-c35a-4754-e5ce-b43a148b0edd"
   },
   "outputs": [
    {
     "name": "stdout",
     "output_type": "stream",
     "text": [
      "Mounted at /content/drive\n"
     ]
    }
   ],
   "source": [
    "from google.colab import drive\n",
    "drive.mount('/content/drive')\n"
   ]
  },
  {
   "cell_type": "code",
   "execution_count": 2,
   "metadata": {
    "id": "tL8BCXDYreWw"
   },
   "outputs": [],
   "source": [
    "import zipfile\n",
    "\n",
    "with zipfile.ZipFile('/content/drive/MyDrive/myenv3/myenv3.zip', 'r') as zip_ref:\n",
    "    zip_ref.extractall('/content/myenv3')\n"
   ]
  },
  {
   "cell_type": "code",
   "execution_count": 3,
   "metadata": {
    "colab": {
     "base_uri": "https://localhost:8080/"
    },
    "id": "n3HG9Pczr0V5",
    "outputId": "024b3b37-faea-4977-d8e7-bd89c2fa50e1"
   },
   "outputs": [
    {
     "name": "stdout",
     "output_type": "stream",
     "text": [
      "enterpret_model.ipynb  Include\tpyvenv.cfg  share\n",
      "etc\t\t       Lib\tScripts     train.xlsx\n"
     ]
    }
   ],
   "source": [
    "!ls /content/myenv3/myenv3\n"
   ]
  },
  {
   "cell_type": "code",
   "execution_count": 4,
   "metadata": {
    "colab": {
     "base_uri": "https://localhost:8080/"
    },
    "id": "kh7MKM4Tr2DE",
    "outputId": "e2e41fc7-57ff-4613-c167-6dcdfa096fd0"
   },
   "outputs": [
    {
     "name": "stdout",
     "output_type": "stream",
     "text": [
      "/content/myenv3/myenv3\n"
     ]
    }
   ],
   "source": [
    "cd /content/myenv3/myenv3"
   ]
  },
  {
   "cell_type": "code",
   "execution_count": 5,
   "metadata": {
    "colab": {
     "base_uri": "https://localhost:8080/"
    },
    "id": "_wgxe19tr6I4",
    "outputId": "245fe0fb-4698-429c-843a-70d006c0c2c0"
   },
   "outputs": [
    {
     "name": "stderr",
     "output_type": "stream",
     "text": [
      "[nltk_data] Downloading package punkt to /root/nltk_data...\n",
      "[nltk_data]   Unzipping tokenizers/punkt.zip.\n"
     ]
    },
    {
     "data": {
      "text/plain": [
       "True"
      ]
     },
     "execution_count": 5,
     "metadata": {},
     "output_type": "execute_result"
    }
   ],
   "source": [
    "import nltk\n",
    "nltk.download('punkt')\n"
   ]
  },
  {
   "cell_type": "code",
   "execution_count": 3,
   "metadata": {
    "colab": {
     "base_uri": "https://localhost:8080/",
     "height": 206
    },
    "id": "J383CYRqr9HN",
    "outputId": "3f9908f0-386a-49e0-806c-534a49c34209"
   },
   "outputs": [
    {
     "name": "stdout",
     "output_type": "stream",
     "text": [
      "(2061, 3)\n"
     ]
    },
    {
     "data": {
      "text/html": [
       "<div>\n",
       "<style scoped>\n",
       "    .dataframe tbody tr th:only-of-type {\n",
       "        vertical-align: middle;\n",
       "    }\n",
       "\n",
       "    .dataframe tbody tr th {\n",
       "        vertical-align: top;\n",
       "    }\n",
       "\n",
       "    .dataframe thead th {\n",
       "        text-align: right;\n",
       "    }\n",
       "</style>\n",
       "<table border=\"1\" class=\"dataframe\">\n",
       "  <thead>\n",
       "    <tr style=\"text-align: right;\">\n",
       "      <th></th>\n",
       "      <th>text</th>\n",
       "      <th>reason</th>\n",
       "      <th>label</th>\n",
       "    </tr>\n",
       "  </thead>\n",
       "  <tbody>\n",
       "    <tr>\n",
       "      <th>0</th>\n",
       "      <td>this is an amazing app for online classes!but</td>\n",
       "      <td>good app for conducting online classes</td>\n",
       "      <td>1</td>\n",
       "    </tr>\n",
       "    <tr>\n",
       "      <th>1</th>\n",
       "      <td>very practical and easy to use</td>\n",
       "      <td>app is user-friendly</td>\n",
       "      <td>1</td>\n",
       "    </tr>\n",
       "    <tr>\n",
       "      <th>2</th>\n",
       "      <td>this app is very good for video conferencing.</td>\n",
       "      <td>good for video conferencing</td>\n",
       "      <td>1</td>\n",
       "    </tr>\n",
       "    <tr>\n",
       "      <th>3</th>\n",
       "      <td>i can not download this zoom app</td>\n",
       "      <td>unable to download zoom app</td>\n",
       "      <td>1</td>\n",
       "    </tr>\n",
       "    <tr>\n",
       "      <th>4</th>\n",
       "      <td>i am not able to download this app</td>\n",
       "      <td>want to download the app</td>\n",
       "      <td>1</td>\n",
       "    </tr>\n",
       "  </tbody>\n",
       "</table>\n",
       "</div>"
      ],
      "text/plain": [
       "                                            text  \\\n",
       "0  this is an amazing app for online classes!but   \n",
       "1                 very practical and easy to use   \n",
       "2  this app is very good for video conferencing.   \n",
       "3               i can not download this zoom app   \n",
       "4             i am not able to download this app   \n",
       "\n",
       "                                   reason  label  \n",
       "0  good app for conducting online classes      1  \n",
       "1                    app is user-friendly      1  \n",
       "2             good for video conferencing      1  \n",
       "3             unable to download zoom app      1  \n",
       "4                want to download the app      1  "
      ]
     },
     "execution_count": 3,
     "metadata": {},
     "output_type": "execute_result"
    }
   ],
   "source": [
    "# Importing the dataframe\n",
    "\n",
    "import pandas as pd\n",
    "df = pd.read_excel('train.xlsx')\n",
    "print(df.shape)\n",
    "df.head()"
   ]
  },
  {
   "cell_type": "code",
   "execution_count": null,
   "metadata": {},
   "outputs": [],
   "source": [
    "import pandas as pd\n",
    "import matplotlib.pyplot as plt\n",
    "from wordcloud import WordCloud\n",
    "from nltk.sentiment import SentimentIntensityAnalyzer\n",
    "from gensim import corpora, models\n",
    "import seaborn as sns"
   ]
  },
  {
   "cell_type": "code",
   "execution_count": 8,
   "metadata": {
    "colab": {
     "base_uri": "https://localhost:8080/"
    },
    "id": "emLnF_h2sCJS",
    "outputId": "8f167e86-7a07-4c23-b1e2-1850a053355c"
   },
   "outputs": [
    {
     "name": "stderr",
     "output_type": "stream",
     "text": [
      "[nltk_data] Downloading package vader_lexicon to /root/nltk_data...\n"
     ]
    },
    {
     "data": {
      "text/plain": [
       "True"
      ]
     },
     "execution_count": 8,
     "metadata": {},
     "output_type": "execute_result"
    }
   ],
   "source": [
    "import nltk\n",
    "nltk.download('vader_lexicon')\n"
   ]
  },
  {
   "cell_type": "markdown",
   "metadata": {},
   "source": [
    "## Sentiment analysis and labeling using VADER \n",
    "<a id='section-1'></a>"
   ]
  },
  {
   "cell_type": "markdown",
   "metadata": {},
   "source": [
    "The below code loads data from an Excel file, uses the VADER sentiment analyzer to calculate a sentiment score for each row of text data, applies a threshold to classify the sentiment as positive or negative, and adds a new column to the data frame with the sentiment label. The code then prints a random sample of 10 rows from the data frame."
   ]
  },
  {
   "cell_type": "code",
   "execution_count": 9,
   "metadata": {
    "colab": {
     "base_uri": "https://localhost:8080/",
     "height": 362
    },
    "id": "QSqX4nA_sDcj",
    "outputId": "a36340fe-300d-4eb3-baf2-b1f8bdb8b919"
   },
   "outputs": [
    {
     "data": {
      "text/html": [
       "\n",
       "  <div id=\"df-7b3932f2-7da8-4700-a860-899a884fb799\">\n",
       "    <div class=\"colab-df-container\">\n",
       "      <div>\n",
       "<style scoped>\n",
       "    .dataframe tbody tr th:only-of-type {\n",
       "        vertical-align: middle;\n",
       "    }\n",
       "\n",
       "    .dataframe tbody tr th {\n",
       "        vertical-align: top;\n",
       "    }\n",
       "\n",
       "    .dataframe thead th {\n",
       "        text-align: right;\n",
       "    }\n",
       "</style>\n",
       "<table border=\"1\" class=\"dataframe\">\n",
       "  <thead>\n",
       "    <tr style=\"text-align: right;\">\n",
       "      <th></th>\n",
       "      <th>text</th>\n",
       "      <th>reason</th>\n",
       "      <th>label</th>\n",
       "      <th>sentiment_score</th>\n",
       "      <th>sentiment_label</th>\n",
       "    </tr>\n",
       "  </thead>\n",
       "  <tbody>\n",
       "    <tr>\n",
       "      <th>1484</th>\n",
       "      <td>it has been very useful for my family reunions</td>\n",
       "      <td>good for family reunions</td>\n",
       "      <td>1</td>\n",
       "      <td>0.4927</td>\n",
       "      <td>1</td>\n",
       "    </tr>\n",
       "    <tr>\n",
       "      <th>37</th>\n",
       "      <td>i can not change my background when I am using...</td>\n",
       "      <td>unable to set virtual background on mobie</td>\n",
       "      <td>1</td>\n",
       "      <td>0.0000</td>\n",
       "      <td>1</td>\n",
       "    </tr>\n",
       "    <tr>\n",
       "      <th>605</th>\n",
       "      <td>it has connectivity issues on iphone.</td>\n",
       "      <td>iphone has connectivity issues</td>\n",
       "      <td>1</td>\n",
       "      <td>0.0000</td>\n",
       "      <td>1</td>\n",
       "    </tr>\n",
       "    <tr>\n",
       "      <th>1747</th>\n",
       "      <td>please delete the app that supports gay people</td>\n",
       "      <td>want to delete the app</td>\n",
       "      <td>1</td>\n",
       "      <td>0.5859</td>\n",
       "      <td>1</td>\n",
       "    </tr>\n",
       "    <tr>\n",
       "      <th>1151</th>\n",
       "      <td>brilliant group meating app.</td>\n",
       "      <td>good for group meeting</td>\n",
       "      <td>1</td>\n",
       "      <td>0.5859</td>\n",
       "      <td>1</td>\n",
       "    </tr>\n",
       "    <tr>\n",
       "      <th>1201</th>\n",
       "      <td>thanks for this good application, however i su...</td>\n",
       "      <td>want to integrate voice calls and chat</td>\n",
       "      <td>1</td>\n",
       "      <td>0.7003</td>\n",
       "      <td>1</td>\n",
       "    </tr>\n",
       "    <tr>\n",
       "      <th>530</th>\n",
       "      <td>screen share quality is horrible, 40p at the v...</td>\n",
       "      <td>screen share quality is poor</td>\n",
       "      <td>1</td>\n",
       "      <td>-0.3182</td>\n",
       "      <td>0</td>\n",
       "    </tr>\n",
       "    <tr>\n",
       "      <th>113</th>\n",
       "      <td>please improve your performance zoom</td>\n",
       "      <td>app performance needs improvement</td>\n",
       "      <td>1</td>\n",
       "      <td>0.6369</td>\n",
       "      <td>1</td>\n",
       "    </tr>\n",
       "    <tr>\n",
       "      <th>1774</th>\n",
       "      <td>the sound is not working.</td>\n",
       "      <td>sound is not working</td>\n",
       "      <td>1</td>\n",
       "      <td>0.0000</td>\n",
       "      <td>1</td>\n",
       "    </tr>\n",
       "    <tr>\n",
       "      <th>1355</th>\n",
       "      <td>the names of the group members change places.</td>\n",
       "      <td>group members change places</td>\n",
       "      <td>1</td>\n",
       "      <td>0.0000</td>\n",
       "      <td>1</td>\n",
       "    </tr>\n",
       "  </tbody>\n",
       "</table>\n",
       "</div>\n",
       "      <button class=\"colab-df-convert\" onclick=\"convertToInteractive('df-7b3932f2-7da8-4700-a860-899a884fb799')\"\n",
       "              title=\"Convert this dataframe to an interactive table.\"\n",
       "              style=\"display:none;\">\n",
       "        \n",
       "  <svg xmlns=\"http://www.w3.org/2000/svg\" height=\"24px\"viewBox=\"0 0 24 24\"\n",
       "       width=\"24px\">\n",
       "    <path d=\"M0 0h24v24H0V0z\" fill=\"none\"/>\n",
       "    <path d=\"M18.56 5.44l.94 2.06.94-2.06 2.06-.94-2.06-.94-.94-2.06-.94 2.06-2.06.94zm-11 1L8.5 8.5l.94-2.06 2.06-.94-2.06-.94L8.5 2.5l-.94 2.06-2.06.94zm10 10l.94 2.06.94-2.06 2.06-.94-2.06-.94-.94-2.06-.94 2.06-2.06.94z\"/><path d=\"M17.41 7.96l-1.37-1.37c-.4-.4-.92-.59-1.43-.59-.52 0-1.04.2-1.43.59L10.3 9.45l-7.72 7.72c-.78.78-.78 2.05 0 2.83L4 21.41c.39.39.9.59 1.41.59.51 0 1.02-.2 1.41-.59l7.78-7.78 2.81-2.81c.8-.78.8-2.07 0-2.86zM5.41 20L4 18.59l7.72-7.72 1.47 1.35L5.41 20z\"/>\n",
       "  </svg>\n",
       "      </button>\n",
       "      \n",
       "  <style>\n",
       "    .colab-df-container {\n",
       "      display:flex;\n",
       "      flex-wrap:wrap;\n",
       "      gap: 12px;\n",
       "    }\n",
       "\n",
       "    .colab-df-convert {\n",
       "      background-color: #E8F0FE;\n",
       "      border: none;\n",
       "      border-radius: 50%;\n",
       "      cursor: pointer;\n",
       "      display: none;\n",
       "      fill: #1967D2;\n",
       "      height: 32px;\n",
       "      padding: 0 0 0 0;\n",
       "      width: 32px;\n",
       "    }\n",
       "\n",
       "    .colab-df-convert:hover {\n",
       "      background-color: #E2EBFA;\n",
       "      box-shadow: 0px 1px 2px rgba(60, 64, 67, 0.3), 0px 1px 3px 1px rgba(60, 64, 67, 0.15);\n",
       "      fill: #174EA6;\n",
       "    }\n",
       "\n",
       "    [theme=dark] .colab-df-convert {\n",
       "      background-color: #3B4455;\n",
       "      fill: #D2E3FC;\n",
       "    }\n",
       "\n",
       "    [theme=dark] .colab-df-convert:hover {\n",
       "      background-color: #434B5C;\n",
       "      box-shadow: 0px 1px 3px 1px rgba(0, 0, 0, 0.15);\n",
       "      filter: drop-shadow(0px 1px 2px rgba(0, 0, 0, 0.3));\n",
       "      fill: #FFFFFF;\n",
       "    }\n",
       "  </style>\n",
       "\n",
       "      <script>\n",
       "        const buttonEl =\n",
       "          document.querySelector('#df-7b3932f2-7da8-4700-a860-899a884fb799 button.colab-df-convert');\n",
       "        buttonEl.style.display =\n",
       "          google.colab.kernel.accessAllowed ? 'block' : 'none';\n",
       "\n",
       "        async function convertToInteractive(key) {\n",
       "          const element = document.querySelector('#df-7b3932f2-7da8-4700-a860-899a884fb799');\n",
       "          const dataTable =\n",
       "            await google.colab.kernel.invokeFunction('convertToInteractive',\n",
       "                                                     [key], {});\n",
       "          if (!dataTable) return;\n",
       "\n",
       "          const docLinkHtml = 'Like what you see? Visit the ' +\n",
       "            '<a target=\"_blank\" href=https://colab.research.google.com/notebooks/data_table.ipynb>data table notebook</a>'\n",
       "            + ' to learn more about interactive tables.';\n",
       "          element.innerHTML = '';\n",
       "          dataTable['output_type'] = 'display_data';\n",
       "          await google.colab.output.renderOutput(dataTable, element);\n",
       "          const docLink = document.createElement('div');\n",
       "          docLink.innerHTML = docLinkHtml;\n",
       "          element.appendChild(docLink);\n",
       "        }\n",
       "      </script>\n",
       "    </div>\n",
       "  </div>\n",
       "  "
      ],
      "text/plain": [
       "                                                   text  \\\n",
       "1484     it has been very useful for my family reunions   \n",
       "37    i can not change my background when I am using...   \n",
       "605               it has connectivity issues on iphone.   \n",
       "1747     please delete the app that supports gay people   \n",
       "1151                       brilliant group meating app.   \n",
       "1201  thanks for this good application, however i su...   \n",
       "530   screen share quality is horrible, 40p at the v...   \n",
       "113                please improve your performance zoom   \n",
       "1774                          the sound is not working.   \n",
       "1355      the names of the group members change places.   \n",
       "\n",
       "                                         reason  label  sentiment_score  \\\n",
       "1484                   good for family reunions      1           0.4927   \n",
       "37    unable to set virtual background on mobie      1           0.0000   \n",
       "605              iphone has connectivity issues      1           0.0000   \n",
       "1747                     want to delete the app      1           0.5859   \n",
       "1151                     good for group meeting      1           0.5859   \n",
       "1201     want to integrate voice calls and chat      1           0.7003   \n",
       "530                screen share quality is poor      1          -0.3182   \n",
       "113           app performance needs improvement      1           0.6369   \n",
       "1774                       sound is not working      1           0.0000   \n",
       "1355                group members change places      1           0.0000   \n",
       "\n",
       "      sentiment_label  \n",
       "1484                1  \n",
       "37                  1  \n",
       "605                 1  \n",
       "1747                1  \n",
       "1151                1  \n",
       "1201                1  \n",
       "530                 0  \n",
       "113                 1  \n",
       "1774                1  \n",
       "1355                1  "
      ]
     },
     "execution_count": 9,
     "metadata": {},
     "output_type": "execute_result"
    }
   ],
   "source": [
    "import pandas as pd\n",
    "from nltk.sentiment.vader import SentimentIntensityAnalyzer\n",
    "\n",
    "# Load data\n",
    "data = pd.read_excel('train.xlsx')\n",
    "\n",
    "# Instantiate Vader sentiment analyzer\n",
    "sia = SentimentIntensityAnalyzer()\n",
    "\n",
    "# Define a function to get the sentiment score for each row\n",
    "def get_sentiment_score(row):\n",
    "    return sia.polarity_scores(row['text'])['compound']\n",
    "\n",
    "# Apply the function to each row to get the sentiment score\n",
    "data['sentiment_score'] = data.apply(get_sentiment_score, axis=1)\n",
    "\n",
    "# Define a threshold to classify positive/negative sentiment\n",
    "threshold = 0\n",
    "\n",
    "# Classify sentiment based on the threshold\n",
    "data['sentiment_label'] = data['sentiment_score'].apply(lambda score: 1 if score >= threshold else 0)\n",
    "\n",
    "# Print the first 10 rows of the data\n",
    "data.sample(10)\n"
   ]
  },
  {
   "cell_type": "code",
   "execution_count": 10,
   "metadata": {
    "colab": {
     "base_uri": "https://localhost:8080/"
    },
    "id": "5az8lyzdsFPd",
    "outputId": "27257375-28a5-46f4-adff-6597488b29bf"
   },
   "outputs": [
    {
     "data": {
      "text/plain": [
       "1    1408\n",
       "0     653\n",
       "Name: sentiment_label, dtype: int64"
      ]
     },
     "execution_count": 10,
     "metadata": {},
     "output_type": "execute_result"
    }
   ],
   "source": [
    "data.sentiment_label.value_counts()"
   ]
  },
  {
   "cell_type": "markdown",
   "metadata": {},
   "source": [
    "The data has 1408 samples with a positive sentiment label (labeled as 1) and 653 samples with a negative sentiment label (labeled as 0) after applying sentiment analysis using VADER."
   ]
  },
  {
   "cell_type": "markdown",
   "metadata": {},
   "source": [
    "# Exploratory Data Analysis\n",
    "<a id='section-2'></a>"
   ]
  },
  {
   "cell_type": "markdown",
   "metadata": {},
   "source": [
    "## Visualization of Label Distribution After Sentiment Analysis"
   ]
  },
  {
   "cell_type": "code",
   "execution_count": 110,
   "metadata": {
    "colab": {
     "base_uri": "https://localhost:8080/",
     "height": 472
    },
    "id": "PeeLHSSRZOop",
    "outputId": "dbb1d035-1eb3-4b56-b8b8-2f720892d7a8"
   },
   "outputs": [
    {
     "data": {
      "image/png": "[encoded data removed]",
      "text/plain": [
       "<Figure size 640x480 with 1 Axes>"
      ]
     },
     "metadata": {},
     "output_type": "display_data"
    }
   ],
   "source": [
    "# Distribution of the label\n",
    "plt.hist(data['sentiment_label'], bins=[0, 0.5, 1], align='mid')\n",
    "plt.xlabel('Label')\n",
    "plt.ylabel('Frequency')\n",
    "plt.xticks([0, 0.5, 1])\n",
    "plt.title('Distribution of Labels')\n",
    "plt.show()\n"
   ]
  },
  {
   "cell_type": "markdown",
   "metadata": {},
   "source": [
    "## Top 10 Most Frequent Words in \"reason\" Column after Stopword Removal"
   ]
  },
  {
   "cell_type": "code",
   "execution_count": 111,
   "metadata": {
    "colab": {
     "base_uri": "https://localhost:8080/"
    },
    "id": "BBYsN07LZV1N",
    "outputId": "8c66974e-ed27-4e86-a56c-ba31dc8af277"
   },
   "outputs": [
    {
     "name": "stdout",
     "output_type": "stream",
     "text": [
      "want          840\n",
      "app           362\n",
      "good          222\n",
      "unable        219\n",
      "video         118\n",
      "use           104\n",
      "zoom           94\n",
      "background     90\n",
      "screen         87\n",
      "bad            85\n",
      "dtype: int64\n"
     ]
    },
    {
     "name": "stderr",
     "output_type": "stream",
     "text": [
      "[nltk_data] Downloading package stopwords to /root/nltk_data...\n",
      "[nltk_data]   Unzipping corpora/stopwords.zip.\n"
     ]
    }
   ],
   "source": [
    "import nltk\n",
    "from nltk.corpus import stopwords\n",
    "\n",
    "\n",
    "# Download stopwords if not already downloaded\n",
    "nltk.download('stopwords')\n",
    "\n",
    "# Load stop words\n",
    "stop_words = set(stopwords.words('english'))\n",
    "\n",
    "# Concatenate all the words in the \"reason\" column\n",
    "all_words = ' '.join(data['reason']).split()\n",
    "\n",
    "# Remove stop words from the concatenated words\n",
    "all_words_clean = [word for word in all_words if word.lower() not in stop_words]\n",
    "\n",
    "# Count the frequency of each word\n",
    "word_freq = pd.Series(all_words_clean).value_counts().sort_values(ascending=False)\n",
    "\n",
    "# Print the top 10 most frequent words\n",
    "print(word_freq.head(10))\n"
   ]
  },
  {
   "cell_type": "markdown",
   "metadata": {},
   "source": [
    "## Word Cloud"
   ]
  },
  {
   "cell_type": "code",
   "execution_count": 112,
   "metadata": {
    "colab": {
     "base_uri": "https://localhost:8080/",
     "height": 285
    },
    "id": "xs0HAAMsZYjI",
    "outputId": "90dd3293-0630-409a-e1b3-1d581a9fea71"
   },
   "outputs": [
    {
     "data": {
      "image/png": "[encoded data removed]",
      "text/plain": [
       "<Figure size 640x480 with 1 Axes>"
      ]
     },
     "metadata": {},
     "output_type": "display_data"
    }
   ],
   "source": [
    "\n",
    "# Word cloud\n",
    "wordcloud = WordCloud(width=800, height=400, background_color='white', max_words=200).generate_from_frequencies(word_freq)\n",
    "plt.imshow(wordcloud, interpolation='bilinear')\n",
    "plt.axis('off')\n",
    "plt.show()\n"
   ]
  },
  {
   "cell_type": "markdown",
   "metadata": {},
   "source": [
    "## Sentiment Analysis of Customer Feedback with Histogram Visualization"
   ]
  },
  {
   "cell_type": "markdown",
   "metadata": {},
   "source": [
    "This code block performs sentiment analysis on the \"reason\" column of the data using the VADER sentiment analyzer from the NLTK library. It adds two new columns to the data: \"sentiment_score\" and \"sentiment\". The \"sentiment_score\" column contains the compound sentiment score (ranging from -1 to 1) for each row, and the \"sentiment\" column indicates whether the sentiment is positive, negative, or neutral based on the \"sentiment_score\". Finally, a histogram of the sentiment scores is plotted."
   ]
  },
  {
   "cell_type": "code",
   "execution_count": 113,
   "metadata": {
    "colab": {
     "base_uri": "https://localhost:8080/",
     "height": 472
    },
    "id": "JmFig6bRZcRP",
    "outputId": "94145afd-50d7-4021-9592-018ed1979a3e"
   },
   "outputs": [
    {
     "data": {
      "image/png": "[encoded data removed]",
      "text/plain": [
       "<Figure size 640x480 with 1 Axes>"
      ]
     },
     "metadata": {},
     "output_type": "display_data"
    }
   ],
   "source": [
    "# Sentiment analysis\n",
    "sia = SentimentIntensityAnalyzer()\n",
    "data['sentiment_score'] = data['reason'].apply(lambda x: sia.polarity_scores(x)['compound'])\n",
    "data['sentiment'] = data['sentiment_score'].apply(lambda x: 'Positive' if x > 0 else ('Negative' if x < 0 else 'Neutral'))\n",
    "plt.hist(data['sentiment_score'], bins=20)\n",
    "plt.xlabel('Sentiment Score')\n",
    "plt.ylabel('Frequency')\n",
    "plt.title('Sentiment Analysis')\n",
    "plt.show()"
   ]
  },
  {
   "cell_type": "markdown",
   "metadata": {},
   "source": [
    "## Top 10 Most Frequent Words in \"reason\" Column after Stopword Removal with Bar Chart Visualization"
   ]
  },
  {
   "cell_type": "markdown",
   "metadata": {},
   "source": [
    "This code block generates a bar chart visualization of the top 10 most frequent words in the \"reason\" column after removing stopwords. It first creates a pandas series of the clean words with stopwords removed and then uses the seaborn library to create the bar chart, with the x-axis showing the top 10 words and the y-axis showing their frequency. The title, x-axis label, and y-axis label are also set. The resulting bar chart provides a quick and easy way to visualize the most common words in the dataset."
   ]
  },
  {
   "cell_type": "code",
   "execution_count": 115,
   "metadata": {
    "colab": {
     "base_uri": "https://localhost:8080/",
     "height": 487
    },
    "id": "4y2YeH3VZjKD",
    "outputId": "d3917105-21da-4f78-8a2f-91138b53bf71"
   },
   "outputs": [
    {
     "data": {
      "image/png": "[encoded data removed]",
      "text/plain": [
       "<Figure size 800x500 with 1 Axes>"
      ]
     },
     "metadata": {},
     "output_type": "display_data"
    }
   ],
   "source": [
    "# Bar Chart\n",
    "word_freq = pd.Series(all_words_clean).value_counts().sort_values(ascending=False)\n",
    "plt.figure(figsize=(8, 5))\n",
    "sns.barplot(x=word_freq[:10].index, y=word_freq[:10])\n",
    "plt.title('Top 10 Most Frequent Words')\n",
    "plt.xlabel('Word')\n",
    "plt.ylabel('Frequency')\n",
    "plt.show()\n"
   ]
  },
  {
   "cell_type": "markdown",
   "metadata": {},
   "source": [
    "## Co-occurrence of Top 30 Most Frequent Words in Customer Feedback Dataset with Heatmap Visualization"
   ]
  },
  {
   "cell_type": "markdown",
   "metadata": {},
   "source": [
    "This code block creates a heatmap visualization of the co-occurrence of the top 30 most frequent words in the cleaned \"reason\" column of the customer feedback dataset. The co-occurrence values are computed by counting the number of times each pair of words appears together in any of the feedback texts. The resulting co-occurrence matrix is then plotted as a heatmap using the seaborn library. The heatmap shows the strength of the co-occurrence relationship between each pair of words, with darker shades indicating stronger co-occurrence relationships. The x and y axes of the heatmap represent the top 30 most frequent words, and the title of the plot indicates that it shows the co-occurrence of these top 30 words."
   ]
  },
  {
   "cell_type": "code",
   "execution_count": 116,
   "metadata": {
    "colab": {
     "base_uri": "https://localhost:8080/",
     "height": 603
    },
    "id": "BpTZakoGaNYA",
    "outputId": "07824601-f14c-42fa-f62d-1bf99938d9f7"
   },
   "outputs": [
    {
     "data": {
      "image/png": "[encoded data removed]",
      "text/plain": [
       "<Figure size 600x600 with 2 Axes>"
      ]
     },
     "metadata": {},
     "output_type": "display_data"
    }
   ],
   "source": [
    "# Heatmap\n",
    "word_freq_top50 = pd.Series(all_words_clean).value_counts().sort_values(ascending=False)[:30]\n",
    "co_occurrence = pd.DataFrame(index=word_freq_top50.index, columns=word_freq_top50.index)\n",
    "for i in word_freq_top50.index:\n",
    "    for j in word_freq_top50.index:\n",
    "        co_occurrence.loc[i,j] = sum([1 for text in df['text'] if i in text and j in text])\n",
    "plt.figure(figsize=(6,6))\n",
    "sns.heatmap(co_occurrence.astype(int), cmap=\"YlGnBu\")\n",
    "plt.title('Co-occurrence of Top 30 Most Frequent Words')\n",
    "plt.xlabel('Word')\n",
    "plt.ylabel('Word')\n",
    "plt.show()"
   ]
  },
  {
   "cell_type": "markdown",
   "metadata": {},
   "source": [
    "## Distribution of Sentiment Labels in Customer Feedback Dataset as a Pie Chart"
   ]
  },
  {
   "cell_type": "markdown",
   "metadata": {},
   "source": [
    "This code block creates a pie chart to visualize the distribution of sentiment labels (positive and negative) in the customer feedback dataset. The code first counts the number of positive and negative labels using the value_counts() method and stores them in the \"label_counts\" variable. Then, the colors and explode variables are defined to customize the pie chart. The pie chart is created using the pie() function with label_counts, colors, labels, explode, and autopct parameters. A legend and a title are added to the chart using the legend() and title() functions, respectively. Finally, the show() function is called to display the chart."
   ]
  },
  {
   "cell_type": "code",
   "execution_count": 118,
   "metadata": {
    "colab": {
     "base_uri": "https://localhost:8080/",
     "height": 521
    },
    "id": "TBQU_U7Db4z0",
    "outputId": "53138201-3c7b-4811-9eba-21decaa481be"
   },
   "outputs": [
    {
     "data": {
      "image/png": "[encoded data removed]",
      "text/plain": [
       "<Figure size 800x600 with 1 Axes>"
      ]
     },
     "metadata": {},
     "output_type": "display_data"
    }
   ],
   "source": [
    "import matplotlib.pyplot as plt\n",
    "\n",
    "# Create data\n",
    "label_counts = data['sentiment_label'].value_counts()\n",
    "\n",
    "# Define colors and explode for the pie chart\n",
    "colors = ['tab:green', 'tab:red']\n",
    "explode = [0.05, 0]\n",
    "\n",
    "# Create the pie chart\n",
    "plt.figure(figsize=(8,6))\n",
    "plt.pie(label_counts, colors=colors, labels=label_counts.index, explode=explode, autopct='%1.1f%%')\n",
    "\n",
    "# Add a legend\n",
    "plt.legend(title='Sentiment Label', loc='best', labels=['Positive', 'Negative'])\n",
    "\n",
    "# Add a title\n",
    "plt.title('Distribution of Labels')\n",
    "\n",
    "# Show the plot\n",
    "plt.show()\n"
   ]
  },
  {
   "cell_type": "markdown",
   "metadata": {},
   "source": [
    "## Topic Modeling of \"reason\" Column in Customer Feedback Dataset with LDA Algorithm"
   ]
  },
  {
   "cell_type": "markdown",
   "metadata": {},
   "source": [
    "The code block performs topic modeling on the \"reason\" column in the customer feedback dataset using LDA algorithm. The code first preprocesses the text data by splitting the text into words and creating a dictionary and corpus of words. Then, the LDA algorithm is applied with 5 topics and 10 passes. The resulting topics are printed, each with 5 top words associated with them. "
   ]
  },
  {
   "cell_type": "code",
   "execution_count": 119,
   "metadata": {
    "colab": {
     "base_uri": "https://localhost:8080/"
    },
    "id": "qpdecmLBcDoT",
    "outputId": "4d443d57-01e9-4b19-83f4-a3560b38faeb"
   },
   "outputs": [
    {
     "name": "stdout",
     "output_type": "stream",
     "text": [
      "(0, '0.107*\"good\" + 0.089*\"for\" + 0.051*\"movies\" + 0.039*\"and\" + 0.029*\"app\"')\n",
      "(1, '0.197*\"to\" + 0.089*\"want\" + 0.071*\"unable\" + 0.050*\"on\" + 0.032*\"use\"')\n",
      "(2, '0.067*\"app\" + 0.053*\"the\" + 0.053*\"facing\" + 0.041*\"keeps\" + 0.035*\"issues\"')\n",
      "(3, '0.115*\"is\" + 0.056*\"not\" + 0.053*\"app\" + 0.044*\"bad\" + 0.038*\"working\"')\n",
      "(4, '0.101*\"to\" + 0.088*\"want\" + 0.031*\"content\" + 0.028*\"pip\" + 0.023*\"from\"')\n"
     ]
    }
   ],
   "source": [
    "# Topic modeling\n",
    "texts = [doc.split() for doc in data['reason']]\n",
    "dictionary = corpora.Dictionary(texts)\n",
    "corpus = [dictionary.doc2bow(text) for text in texts]\n",
    "lda = models.ldamodel.LdaModel(corpus, num_topics=5, id2word=dictionary, passes=10)\n",
    "topics = lda.print_topics(num_words=5)\n",
    "for topic in topics:\n",
    "    print(topic)\n"
   ]
  },
  {
   "cell_type": "markdown",
   "metadata": {},
   "source": [
    "The topics can be interpreted as follows:\n",
    "\n",
    "Topic 0: Positive feedback related to good movies and app.\n",
    "\n",
    "Topic 1: Complaints about inability to use the app properly.\n",
    "\n",
    "Topic 2: Issues with app facing problems and technical difficulties.\n",
    "\n",
    "Topic 3: Negative feedback about app not working properly.\n",
    "\n",
    "Topic 4: Feedback related to wanting specific content, such as pip."
   ]
  },
  {
   "cell_type": "code",
   "execution_count": 11,
   "metadata": {
    "colab": {
     "base_uri": "https://localhost:8080/"
    },
    "id": "bMB6pAyDsmcR",
    "outputId": "c907d51b-7cab-4c11-a2bb-bba986b064f6"
   },
   "outputs": [
    {
     "name": "stdout",
     "output_type": "stream",
     "text": [
      "\u001b[2K     \u001b[90m━━━━━━━━━━━━━━━━━━━━━━━━━━━━━━━━━━━━━━━━\u001b[0m \u001b[32m5.8/5.8 MB\u001b[0m \u001b[31m93.2 MB/s\u001b[0m eta \u001b[36m0:00:00\u001b[0m\n",
      "\u001b[2K     \u001b[90m━━━━━━━━━━━━━━━━━━━━━━━━━━━━━━━━━━━━━━━\u001b[0m \u001b[32m588.3/588.3 MB\u001b[0m \u001b[31m2.6 MB/s\u001b[0m eta \u001b[36m0:00:00\u001b[0m\n",
      "\u001b[2K     \u001b[90m━━━━━━━━━━━━━━━━━━━━━━━━━━━━━━━━━━━━━━━━\u001b[0m \u001b[32m1.1/1.1 MB\u001b[0m \u001b[31m54.5 MB/s\u001b[0m eta \u001b[36m0:00:00\u001b[0m\n",
      "\u001b[2K     \u001b[90m━━━━━━━━━━━━━━━━━━━━━━━━━━━━━━━━━━━━━━\u001b[0m \u001b[32m439.2/439.2 KB\u001b[0m \u001b[31m32.2 MB/s\u001b[0m eta \u001b[36m0:00:00\u001b[0m\n",
      "\u001b[2K     \u001b[90m━━━━━━━━━━━━━━━━━━━━━━━━━━━━━━━━━━━━━━━━\u001b[0m \u001b[32m1.7/1.7 MB\u001b[0m \u001b[31m66.3 MB/s\u001b[0m eta \u001b[36m0:00:00\u001b[0m\n",
      "\u001b[2K     \u001b[90m━━━━━━━━━━━━━━━━━━━━━━━━━━━━━━━━━━━━━━━━\u001b[0m \u001b[32m6.0/6.0 MB\u001b[0m \u001b[31m72.9 MB/s\u001b[0m eta \u001b[36m0:00:00\u001b[0m\n",
      "\u001b[2K     \u001b[90m━━━━━━━━━━━━━━━━━━━━━━━━━━━━━━━━━━━━━━━━\u001b[0m \u001b[32m4.9/4.9 MB\u001b[0m \u001b[31m69.8 MB/s\u001b[0m eta \u001b[36m0:00:00\u001b[0m\n",
      "\u001b[?25h"
     ]
    }
   ],
   "source": [
    "pip install -q -U \"tensorflow-text==2.11.*\""
   ]
  },
  {
   "cell_type": "code",
   "execution_count": 49,
   "metadata": {
    "colab": {
     "base_uri": "https://localhost:8080/",
     "height": 423
    },
    "id": "xpfUn4qvRRlF",
    "outputId": "f12392a1-46d0-446b-d006-448495a6af45"
   },
   "outputs": [
    {
     "data": {
      "text/html": [
       "\n",
       "  <div id=\"df-260d11d1-a791-4237-9bfe-abee0c38a0e1\">\n",
       "    <div class=\"colab-df-container\">\n",
       "      <div>\n",
       "<style scoped>\n",
       "    .dataframe tbody tr th:only-of-type {\n",
       "        vertical-align: middle;\n",
       "    }\n",
       "\n",
       "    .dataframe tbody tr th {\n",
       "        vertical-align: top;\n",
       "    }\n",
       "\n",
       "    .dataframe thead th {\n",
       "        text-align: right;\n",
       "    }\n",
       "</style>\n",
       "<table border=\"1\" class=\"dataframe\">\n",
       "  <thead>\n",
       "    <tr style=\"text-align: right;\">\n",
       "      <th></th>\n",
       "      <th>text</th>\n",
       "      <th>reason</th>\n",
       "      <th>label</th>\n",
       "      <th>sentiment_score</th>\n",
       "      <th>sentiment_label</th>\n",
       "    </tr>\n",
       "  </thead>\n",
       "  <tbody>\n",
       "    <tr>\n",
       "      <th>0</th>\n",
       "      <td>this is an amazing app for online classes!but</td>\n",
       "      <td>good app for conducting online classes</td>\n",
       "      <td>1</td>\n",
       "      <td>0.6239</td>\n",
       "      <td>1</td>\n",
       "    </tr>\n",
       "    <tr>\n",
       "      <th>1</th>\n",
       "      <td>very practical and easy to use</td>\n",
       "      <td>app is user-friendly</td>\n",
       "      <td>1</td>\n",
       "      <td>0.4877</td>\n",
       "      <td>1</td>\n",
       "    </tr>\n",
       "    <tr>\n",
       "      <th>2</th>\n",
       "      <td>this app is very good for video conferencing.</td>\n",
       "      <td>good for video conferencing</td>\n",
       "      <td>1</td>\n",
       "      <td>0.4927</td>\n",
       "      <td>1</td>\n",
       "    </tr>\n",
       "    <tr>\n",
       "      <th>3</th>\n",
       "      <td>i can not download this zoom app</td>\n",
       "      <td>unable to download zoom app</td>\n",
       "      <td>1</td>\n",
       "      <td>0.0000</td>\n",
       "      <td>1</td>\n",
       "    </tr>\n",
       "    <tr>\n",
       "      <th>4</th>\n",
       "      <td>i am not able to download this app</td>\n",
       "      <td>want to download the app</td>\n",
       "      <td>1</td>\n",
       "      <td>0.0000</td>\n",
       "      <td>1</td>\n",
       "    </tr>\n",
       "    <tr>\n",
       "      <th>...</th>\n",
       "      <td>...</td>\n",
       "      <td>...</td>\n",
       "      <td>...</td>\n",
       "      <td>...</td>\n",
       "      <td>...</td>\n",
       "    </tr>\n",
       "    <tr>\n",
       "      <th>2056</th>\n",
       "      <td>i am not getting jio tv properly.</td>\n",
       "      <td>unable to use with jio tv</td>\n",
       "      <td>1</td>\n",
       "      <td>0.0000</td>\n",
       "      <td>1</td>\n",
       "    </tr>\n",
       "    <tr>\n",
       "      <th>2057</th>\n",
       "      <td>(learn from the netflix interface)</td>\n",
       "      <td>netflix ui is better</td>\n",
       "      <td>1</td>\n",
       "      <td>0.0000</td>\n",
       "      <td>1</td>\n",
       "    </tr>\n",
       "    <tr>\n",
       "      <th>2058</th>\n",
       "      <td>hello,\\ndisney+ must also be installed on chro...</td>\n",
       "      <td>unable to use disney on chromecast</td>\n",
       "      <td>1</td>\n",
       "      <td>0.0000</td>\n",
       "      <td>1</td>\n",
       "    </tr>\n",
       "    <tr>\n",
       "      <th>2059</th>\n",
       "      <td>it is a shame that disney+ does not work on tv...</td>\n",
       "      <td>unable to use disney plus on tv</td>\n",
       "      <td>1</td>\n",
       "      <td>-0.4767</td>\n",
       "      <td>0</td>\n",
       "    </tr>\n",
       "    <tr>\n",
       "      <th>2060</th>\n",
       "      <td>i have to close and reload the app over and ov...</td>\n",
       "      <td>sound keeps playing even after closing the app</td>\n",
       "      <td>1</td>\n",
       "      <td>0.0000</td>\n",
       "      <td>1</td>\n",
       "    </tr>\n",
       "  </tbody>\n",
       "</table>\n",
       "<p>2061 rows × 5 columns</p>\n",
       "</div>\n",
       "      <button class=\"colab-df-convert\" onclick=\"convertToInteractive('df-260d11d1-a791-4237-9bfe-abee0c38a0e1')\"\n",
       "              title=\"Convert this dataframe to an interactive table.\"\n",
       "              style=\"display:none;\">\n",
       "        \n",
       "  <svg xmlns=\"http://www.w3.org/2000/svg\" height=\"24px\"viewBox=\"0 0 24 24\"\n",
       "       width=\"24px\">\n",
       "    <path d=\"M0 0h24v24H0V0z\" fill=\"none\"/>\n",
       "    <path d=\"M18.56 5.44l.94 2.06.94-2.06 2.06-.94-2.06-.94-.94-2.06-.94 2.06-2.06.94zm-11 1L8.5 8.5l.94-2.06 2.06-.94-2.06-.94L8.5 2.5l-.94 2.06-2.06.94zm10 10l.94 2.06.94-2.06 2.06-.94-2.06-.94-.94-2.06-.94 2.06-2.06.94z\"/><path d=\"M17.41 7.96l-1.37-1.37c-.4-.4-.92-.59-1.43-.59-.52 0-1.04.2-1.43.59L10.3 9.45l-7.72 7.72c-.78.78-.78 2.05 0 2.83L4 21.41c.39.39.9.59 1.41.59.51 0 1.02-.2 1.41-.59l7.78-7.78 2.81-2.81c.8-.78.8-2.07 0-2.86zM5.41 20L4 18.59l7.72-7.72 1.47 1.35L5.41 20z\"/>\n",
       "  </svg>\n",
       "      </button>\n",
       "      \n",
       "  <style>\n",
       "    .colab-df-container {\n",
       "      display:flex;\n",
       "      flex-wrap:wrap;\n",
       "      gap: 12px;\n",
       "    }\n",
       "\n",
       "    .colab-df-convert {\n",
       "      background-color: #E8F0FE;\n",
       "      border: none;\n",
       "      border-radius: 50%;\n",
       "      cursor: pointer;\n",
       "      display: none;\n",
       "      fill: #1967D2;\n",
       "      height: 32px;\n",
       "      padding: 0 0 0 0;\n",
       "      width: 32px;\n",
       "    }\n",
       "\n",
       "    .colab-df-convert:hover {\n",
       "      background-color: #E2EBFA;\n",
       "      box-shadow: 0px 1px 2px rgba(60, 64, 67, 0.3), 0px 1px 3px 1px rgba(60, 64, 67, 0.15);\n",
       "      fill: #174EA6;\n",
       "    }\n",
       "\n",
       "    [theme=dark] .colab-df-convert {\n",
       "      background-color: #3B4455;\n",
       "      fill: #D2E3FC;\n",
       "    }\n",
       "\n",
       "    [theme=dark] .colab-df-convert:hover {\n",
       "      background-color: #434B5C;\n",
       "      box-shadow: 0px 1px 3px 1px rgba(0, 0, 0, 0.15);\n",
       "      filter: drop-shadow(0px 1px 2px rgba(0, 0, 0, 0.3));\n",
       "      fill: #FFFFFF;\n",
       "    }\n",
       "  </style>\n",
       "\n",
       "      <script>\n",
       "        const buttonEl =\n",
       "          document.querySelector('#df-260d11d1-a791-4237-9bfe-abee0c38a0e1 button.colab-df-convert');\n",
       "        buttonEl.style.display =\n",
       "          google.colab.kernel.accessAllowed ? 'block' : 'none';\n",
       "\n",
       "        async function convertToInteractive(key) {\n",
       "          const element = document.querySelector('#df-260d11d1-a791-4237-9bfe-abee0c38a0e1');\n",
       "          const dataTable =\n",
       "            await google.colab.kernel.invokeFunction('convertToInteractive',\n",
       "                                                     [key], {});\n",
       "          if (!dataTable) return;\n",
       "\n",
       "          const docLinkHtml = 'Like what you see? Visit the ' +\n",
       "            '<a target=\"_blank\" href=https://colab.research.google.com/notebooks/data_table.ipynb>data table notebook</a>'\n",
       "            + ' to learn more about interactive tables.';\n",
       "          element.innerHTML = '';\n",
       "          dataTable['output_type'] = 'display_data';\n",
       "          await google.colab.output.renderOutput(dataTable, element);\n",
       "          const docLink = document.createElement('div');\n",
       "          docLink.innerHTML = docLinkHtml;\n",
       "          element.appendChild(docLink);\n",
       "        }\n",
       "      </script>\n",
       "    </div>\n",
       "  </div>\n",
       "  "
      ],
      "text/plain": [
       "                                                   text  \\\n",
       "0         this is an amazing app for online classes!but   \n",
       "1                        very practical and easy to use   \n",
       "2         this app is very good for video conferencing.   \n",
       "3                      i can not download this zoom app   \n",
       "4                    i am not able to download this app   \n",
       "...                                                 ...   \n",
       "2056                  i am not getting jio tv properly.   \n",
       "2057                 (learn from the netflix interface)   \n",
       "2058  hello,\\ndisney+ must also be installed on chro...   \n",
       "2059  it is a shame that disney+ does not work on tv...   \n",
       "2060  i have to close and reload the app over and ov...   \n",
       "\n",
       "                                              reason  label  sentiment_score  \\\n",
       "0             good app for conducting online classes      1           0.6239   \n",
       "1                               app is user-friendly      1           0.4877   \n",
       "2                        good for video conferencing      1           0.4927   \n",
       "3                        unable to download zoom app      1           0.0000   \n",
       "4                           want to download the app      1           0.0000   \n",
       "...                                              ...    ...              ...   \n",
       "2056                       unable to use with jio tv      1           0.0000   \n",
       "2057                            netflix ui is better      1           0.0000   \n",
       "2058              unable to use disney on chromecast      1           0.0000   \n",
       "2059                 unable to use disney plus on tv      1          -0.4767   \n",
       "2060  sound keeps playing even after closing the app      1           0.0000   \n",
       "\n",
       "      sentiment_label  \n",
       "0                   1  \n",
       "1                   1  \n",
       "2                   1  \n",
       "3                   1  \n",
       "4                   1  \n",
       "...               ...  \n",
       "2056                1  \n",
       "2057                1  \n",
       "2058                1  \n",
       "2059                0  \n",
       "2060                1  \n",
       "\n",
       "[2061 rows x 5 columns]"
      ]
     },
     "execution_count": 49,
     "metadata": {},
     "output_type": "execute_result"
    }
   ],
   "source": [
    "data"
   ]
  },
  {
   "cell_type": "markdown",
   "metadata": {},
   "source": [
    "This code creates a new DataFrame called original_positives_df that contains only the rows where the sentiment_label column has a value of 1, indicating a positive sentiment. The shape attribute is then used to print the dimensions of the resulting DataFrame."
   ]
  },
  {
   "cell_type": "code",
   "execution_count": 87,
   "metadata": {
    "colab": {
     "base_uri": "https://localhost:8080/"
    },
    "id": "fCAL2jN1vUNA",
    "outputId": "6afa678c-de43-433d-f3b1-c4ecda17a7b2"
   },
   "outputs": [
    {
     "data": {
      "text/plain": [
       "(1408, 5)"
      ]
     },
     "execution_count": 87,
     "metadata": {},
     "output_type": "execute_result"
    }
   ],
   "source": [
    "original_positives_df = data[data['sentiment_label'] == 1]\n",
    "original_positives_df.shape"
   ]
  },
  {
   "cell_type": "markdown",
   "metadata": {},
   "source": [
    "This code creates a new DataFrame original_negatives_df containing only the rows from the original DataFrame data where the value in the sentiment_label column is 0 (indicating a negative sentiment). The shape attribute is then called on this new DataFrame to show the dimensions (number of rows and columns) of the DataFrame.\n",
    "\n",
    "The resulting output would show the dimensions of the original_negatives_df DataFrame, indicating the number of negative sentiment samples in the original dataset."
   ]
  },
  {
   "cell_type": "code",
   "execution_count": 88,
   "metadata": {
    "colab": {
     "base_uri": "https://localhost:8080/"
    },
    "id": "OxjAxWaBvLwJ",
    "outputId": "93c8e110-1fc4-4c05-e1cf-aebe7deaaea8"
   },
   "outputs": [
    {
     "data": {
      "text/plain": [
       "(653, 5)"
      ]
     },
     "execution_count": 88,
     "metadata": {},
     "output_type": "execute_result"
    }
   ],
   "source": [
    "original_negatives_df = data[data['sentiment_label'] == 0]\n",
    "original_negatives_df.shape"
   ]
  },
  {
   "cell_type": "markdown",
   "metadata": {},
   "source": [
    "# Negation Generation for Positive Examples\n",
    "<a id='section-3'></a>"
   ]
  },
  {
   "cell_type": "markdown",
   "metadata": {},
   "source": [
    "Negation generation is a technique used in natural language processing to create negative versions of positive text data. It is achieved by adding negation words such as \"not\" before positive words in a sentence. The resulting negated sentences can then be used to train models to better understand and handle negations in sentiment analysis tasks.\n",
    "\n",
    "Negation generation is important because it can help improve the accuracy of sentiment analysis models, especially in cases where negations are common in the text data being analyzed. By incorporating negated examples in the training data, the model can learn to recognize and handle negations more effectively, leading to more accurate sentiment predictions."
   ]
  },
  {
   "cell_type": "markdown",
   "metadata": {},
   "source": [
    "This code block uses the TextBlob library to generate negated versions of the positive examples in the customer feedback dataset. The negated examples are labeled as negative (0) and stored in a new dataframe called neg_data. The original dataframe of positive examples, original_positives_df, is not modified."
   ]
  },
  {
   "cell_type": "code",
   "execution_count": 89,
   "metadata": {
    "id": "XO1PX6R5vWsY"
   },
   "outputs": [],
   "source": [
    "from textblob import TextBlob\n",
    "\n",
    "# Generate negated versions of the positive examples\n",
    "neg_data = original_positives_df.copy()\n",
    "\n",
    "neg_data['text'] = neg_data['text'].apply(lambda x: \" \".join([\"not \" + w for w in x.split()]))\n",
    "\n",
    "# Label the negated examples as negative (0)\n",
    "neg_data['sentiment_label'] = 0\n",
    "\n"
   ]
  },
  {
   "cell_type": "code",
   "execution_count": 90,
   "metadata": {
    "colab": {
     "base_uri": "https://localhost:8080/",
     "height": 286
    },
    "id": "s1kw-c7rvlBD",
    "outputId": "b6ecd7ab-977a-42be-87f8-f949a641046d"
   },
   "outputs": [
    {
     "name": "stdout",
     "output_type": "stream",
     "text": [
      "(1408, 5)\n"
     ]
    },
    {
     "data": {
      "text/html": [
       "\n",
       "  <div id=\"df-eda6ca7b-ffd4-40f2-a7b2-2cd2a71c1be3\">\n",
       "    <div class=\"colab-df-container\">\n",
       "      <div>\n",
       "<style scoped>\n",
       "    .dataframe tbody tr th:only-of-type {\n",
       "        vertical-align: middle;\n",
       "    }\n",
       "\n",
       "    .dataframe tbody tr th {\n",
       "        vertical-align: top;\n",
       "    }\n",
       "\n",
       "    .dataframe thead th {\n",
       "        text-align: right;\n",
       "    }\n",
       "</style>\n",
       "<table border=\"1\" class=\"dataframe\">\n",
       "  <thead>\n",
       "    <tr style=\"text-align: right;\">\n",
       "      <th></th>\n",
       "      <th>text</th>\n",
       "      <th>reason</th>\n",
       "      <th>label</th>\n",
       "      <th>sentiment_score</th>\n",
       "      <th>sentiment_label</th>\n",
       "    </tr>\n",
       "  </thead>\n",
       "  <tbody>\n",
       "    <tr>\n",
       "      <th>0</th>\n",
       "      <td>not this not is not an not amazing not app not...</td>\n",
       "      <td>good app for conducting online classes</td>\n",
       "      <td>1</td>\n",
       "      <td>0.6239</td>\n",
       "      <td>0</td>\n",
       "    </tr>\n",
       "    <tr>\n",
       "      <th>1</th>\n",
       "      <td>not very not practical not and not easy not to...</td>\n",
       "      <td>app is user-friendly</td>\n",
       "      <td>1</td>\n",
       "      <td>0.4877</td>\n",
       "      <td>0</td>\n",
       "    </tr>\n",
       "    <tr>\n",
       "      <th>2</th>\n",
       "      <td>not this not app not is not very not good not ...</td>\n",
       "      <td>good for video conferencing</td>\n",
       "      <td>1</td>\n",
       "      <td>0.4927</td>\n",
       "      <td>0</td>\n",
       "    </tr>\n",
       "    <tr>\n",
       "      <th>3</th>\n",
       "      <td>not i not can not not not download not this no...</td>\n",
       "      <td>unable to download zoom app</td>\n",
       "      <td>1</td>\n",
       "      <td>0.0000</td>\n",
       "      <td>0</td>\n",
       "    </tr>\n",
       "    <tr>\n",
       "      <th>4</th>\n",
       "      <td>not i not am not not not able not to not downl...</td>\n",
       "      <td>want to download the app</td>\n",
       "      <td>1</td>\n",
       "      <td>0.0000</td>\n",
       "      <td>0</td>\n",
       "    </tr>\n",
       "    <tr>\n",
       "      <th>5</th>\n",
       "      <td>not zoom not is not not not working not properly</td>\n",
       "      <td>app is not working</td>\n",
       "      <td>1</td>\n",
       "      <td>0.0000</td>\n",
       "      <td>0</td>\n",
       "    </tr>\n",
       "    <tr>\n",
       "      <th>6</th>\n",
       "      <td>not zoom not is not an not excellent not meeti...</td>\n",
       "      <td>good app for conducting online meeting</td>\n",
       "      <td>1</td>\n",
       "      <td>0.5719</td>\n",
       "      <td>0</td>\n",
       "    </tr>\n",
       "  </tbody>\n",
       "</table>\n",
       "</div>\n",
       "      <button class=\"colab-df-convert\" onclick=\"convertToInteractive('df-eda6ca7b-ffd4-40f2-a7b2-2cd2a71c1be3')\"\n",
       "              title=\"Convert this dataframe to an interactive table.\"\n",
       "              style=\"display:none;\">\n",
       "        \n",
       "  <svg xmlns=\"http://www.w3.org/2000/svg\" height=\"24px\"viewBox=\"0 0 24 24\"\n",
       "       width=\"24px\">\n",
       "    <path d=\"M0 0h24v24H0V0z\" fill=\"none\"/>\n",
       "    <path d=\"M18.56 5.44l.94 2.06.94-2.06 2.06-.94-2.06-.94-.94-2.06-.94 2.06-2.06.94zm-11 1L8.5 8.5l.94-2.06 2.06-.94-2.06-.94L8.5 2.5l-.94 2.06-2.06.94zm10 10l.94 2.06.94-2.06 2.06-.94-2.06-.94-.94-2.06-.94 2.06-2.06.94z\"/><path d=\"M17.41 7.96l-1.37-1.37c-.4-.4-.92-.59-1.43-.59-.52 0-1.04.2-1.43.59L10.3 9.45l-7.72 7.72c-.78.78-.78 2.05 0 2.83L4 21.41c.39.39.9.59 1.41.59.51 0 1.02-.2 1.41-.59l7.78-7.78 2.81-2.81c.8-.78.8-2.07 0-2.86zM5.41 20L4 18.59l7.72-7.72 1.47 1.35L5.41 20z\"/>\n",
       "  </svg>\n",
       "      </button>\n",
       "      \n",
       "  <style>\n",
       "    .colab-df-container {\n",
       "      display:flex;\n",
       "      flex-wrap:wrap;\n",
       "      gap: 12px;\n",
       "    }\n",
       "\n",
       "    .colab-df-convert {\n",
       "      background-color: #E8F0FE;\n",
       "      border: none;\n",
       "      border-radius: 50%;\n",
       "      cursor: pointer;\n",
       "      display: none;\n",
       "      fill: #1967D2;\n",
       "      height: 32px;\n",
       "      padding: 0 0 0 0;\n",
       "      width: 32px;\n",
       "    }\n",
       "\n",
       "    .colab-df-convert:hover {\n",
       "      background-color: #E2EBFA;\n",
       "      box-shadow: 0px 1px 2px rgba(60, 64, 67, 0.3), 0px 1px 3px 1px rgba(60, 64, 67, 0.15);\n",
       "      fill: #174EA6;\n",
       "    }\n",
       "\n",
       "    [theme=dark] .colab-df-convert {\n",
       "      background-color: #3B4455;\n",
       "      fill: #D2E3FC;\n",
       "    }\n",
       "\n",
       "    [theme=dark] .colab-df-convert:hover {\n",
       "      background-color: #434B5C;\n",
       "      box-shadow: 0px 1px 3px 1px rgba(0, 0, 0, 0.15);\n",
       "      filter: drop-shadow(0px 1px 2px rgba(0, 0, 0, 0.3));\n",
       "      fill: #FFFFFF;\n",
       "    }\n",
       "  </style>\n",
       "\n",
       "      <script>\n",
       "        const buttonEl =\n",
       "          document.querySelector('#df-eda6ca7b-ffd4-40f2-a7b2-2cd2a71c1be3 button.colab-df-convert');\n",
       "        buttonEl.style.display =\n",
       "          google.colab.kernel.accessAllowed ? 'block' : 'none';\n",
       "\n",
       "        async function convertToInteractive(key) {\n",
       "          const element = document.querySelector('#df-eda6ca7b-ffd4-40f2-a7b2-2cd2a71c1be3');\n",
       "          const dataTable =\n",
       "            await google.colab.kernel.invokeFunction('convertToInteractive',\n",
       "                                                     [key], {});\n",
       "          if (!dataTable) return;\n",
       "\n",
       "          const docLinkHtml = 'Like what you see? Visit the ' +\n",
       "            '<a target=\"_blank\" href=https://colab.research.google.com/notebooks/data_table.ipynb>data table notebook</a>'\n",
       "            + ' to learn more about interactive tables.';\n",
       "          element.innerHTML = '';\n",
       "          dataTable['output_type'] = 'display_data';\n",
       "          await google.colab.output.renderOutput(dataTable, element);\n",
       "          const docLink = document.createElement('div');\n",
       "          docLink.innerHTML = docLinkHtml;\n",
       "          element.appendChild(docLink);\n",
       "        }\n",
       "      </script>\n",
       "    </div>\n",
       "  </div>\n",
       "  "
      ],
      "text/plain": [
       "                                                text  \\\n",
       "0  not this not is not an not amazing not app not...   \n",
       "1  not very not practical not and not easy not to...   \n",
       "2  not this not app not is not very not good not ...   \n",
       "3  not i not can not not not download not this no...   \n",
       "4  not i not am not not not able not to not downl...   \n",
       "5   not zoom not is not not not working not properly   \n",
       "6  not zoom not is not an not excellent not meeti...   \n",
       "\n",
       "                                   reason  label  sentiment_score  \\\n",
       "0  good app for conducting online classes      1           0.6239   \n",
       "1                    app is user-friendly      1           0.4877   \n",
       "2             good for video conferencing      1           0.4927   \n",
       "3             unable to download zoom app      1           0.0000   \n",
       "4                want to download the app      1           0.0000   \n",
       "5                      app is not working      1           0.0000   \n",
       "6  good app for conducting online meeting      1           0.5719   \n",
       "\n",
       "   sentiment_label  \n",
       "0                0  \n",
       "1                0  \n",
       "2                0  \n",
       "3                0  \n",
       "4                0  \n",
       "5                0  \n",
       "6                0  "
      ]
     },
     "execution_count": 90,
     "metadata": {},
     "output_type": "execute_result"
    }
   ],
   "source": [
    "print(neg_data.shape)\n",
    "neg_data.head(7)"
   ]
  },
  {
   "cell_type": "markdown",
   "metadata": {},
   "source": [
    "# Oversampling to Address Class Imbalance in a Dataset\n",
    "<a id='section-4'></a>"
   ]
  },
  {
   "cell_type": "markdown",
   "metadata": {},
   "source": [
    "In machine learning, class imbalance refers to a situation where the number of samples in one class is significantly lower than the number of samples in the other class. This is a common problem in many real-world datasets, such as fraud detection or medical diagnosis, where the number of negative examples is much larger than the number of positive examples.\n",
    "\n",
    "Class imbalance can pose a challenge when building predictive models, as the model may become biased towards the majority class and perform poorly on the minority class. To address this problem, one common approach is to oversample the minority class to create a balanced dataset."
   ]
  },
  {
   "cell_type": "code",
   "execution_count": 91,
   "metadata": {
    "colab": {
     "base_uri": "https://localhost:8080/"
    },
    "id": "Uey4mfD2vrDF",
    "outputId": "e744042d-96bb-4024-8efe-0bd857eaf870"
   },
   "outputs": [
    {
     "data": {
      "text/plain": [
       "(653, 5)"
      ]
     },
     "execution_count": 91,
     "metadata": {},
     "output_type": "execute_result"
    }
   ],
   "source": [
    "# Oversample 1-class and concat the DataFrames of both classes\n",
    "df_positive_oversampled = original_positives_df.sample(653, replace=True)\n",
    "df_positive_oversampled.shape"
   ]
  },
  {
   "cell_type": "markdown",
   "metadata": {},
   "source": [
    "In the given above code, we can see that the original dataset has a class imbalance with fewer positive examples compared to negative examples. To address this, we oversample the positive class by randomly sampling with replacement to create a new dataset with a balanced class distribution.\n",
    "\n",
    "After oversampling, the new dataset can be used to train a model that is less biased towards the majority class and can perform better on the minority class. However, oversampling can also lead to overfitting, so it is important to validate the model performance on an independent dataset to ensure generalization.\n"
   ]
  },
  {
   "cell_type": "markdown",
   "metadata": {},
   "source": [
    "### Concatenating Oversampled Negative Examples with Original Negative Examples"
   ]
  },
  {
   "cell_type": "code",
   "execution_count": 92,
   "metadata": {
    "colab": {
     "base_uri": "https://localhost:8080/"
    },
    "id": "C-TStI_0vnIO",
    "outputId": "6723ebd1-94eb-47f4-cf96-262f06afcaa6"
   },
   "outputs": [
    {
     "data": {
      "text/plain": [
       "(2061, 5)"
      ]
     },
     "execution_count": 92,
     "metadata": {},
     "output_type": "execute_result"
    }
   ],
   "source": [
    "df_negative_oversampled = pd.concat([neg_data,original_negatives_df],ignore_index =True)\n",
    "df_negative_oversampled.shape"
   ]
  },
  {
   "cell_type": "markdown",
   "metadata": {},
   "source": [
    "### Oversampling the minority class in an imbalanced dataset"
   ]
  },
  {
   "cell_type": "code",
   "execution_count": 93,
   "metadata": {
    "colab": {
     "base_uri": "https://localhost:8080/"
    },
    "id": "X9lBY9d_vtKr",
    "outputId": "c6abd81d-8de7-4bcf-b9e6-6b24021048a3"
   },
   "outputs": [
    {
     "data": {
      "text/plain": [
       "(2061, 5)"
      ]
     },
     "execution_count": 93,
     "metadata": {},
     "output_type": "execute_result"
    }
   ],
   "source": [
    "df_positive_oversampled = pd.concat([df_positive_oversampled,original_positives_df],ignore_index=True)\n",
    "df_positive_oversampled.shape"
   ]
  },
  {
   "cell_type": "markdown",
   "metadata": {},
   "source": [
    "###  Balancing Imbalanced Datasets using Oversampling"
   ]
  },
  {
   "cell_type": "markdown",
   "metadata": {},
   "source": [
    "In machine learning, having an imbalanced dataset can lead to poor performance of the model, as the model may be biased towards the majority class. One approach to tackle this issue is to use oversampling, which involves increasing the number of samples in the minority class to match the number of samples in the majority class."
   ]
  },
  {
   "cell_type": "code",
   "execution_count": 94,
   "metadata": {
    "colab": {
     "base_uri": "https://localhost:8080/"
    },
    "id": "zIgZoqftvw4L",
    "outputId": "7be84a6d-b21a-429e-895f-6e66db9e7fdb"
   },
   "outputs": [
    {
     "data": {
      "text/plain": [
       "1    2061\n",
       "0    2061\n",
       "Name: sentiment_label, dtype: int64"
      ]
     },
     "execution_count": 94,
     "metadata": {},
     "output_type": "execute_result"
    }
   ],
   "source": [
    "# Combine the negated examples with the original positive examples\n",
    "df_balanced = pd.concat([df_positive_oversampled, df_negative_oversampled], ignore_index=True)\n",
    "df_balanced.sentiment_label.value_counts()"
   ]
  },
  {
   "cell_type": "code",
   "execution_count": 95,
   "metadata": {
    "colab": {
     "base_uri": "https://localhost:8080/",
     "height": 206
    },
    "id": "Mk-h0nQBvwqL",
    "outputId": "7e7f06fd-3c8a-4c28-d2e2-f6a7a4e34c47"
   },
   "outputs": [
    {
     "data": {
      "text/html": [
       "\n",
       "  <div id=\"df-272687f6-2739-4755-8e4b-d8df4fd0c7f1\">\n",
       "    <div class=\"colab-df-container\">\n",
       "      <div>\n",
       "<style scoped>\n",
       "    .dataframe tbody tr th:only-of-type {\n",
       "        vertical-align: middle;\n",
       "    }\n",
       "\n",
       "    .dataframe tbody tr th {\n",
       "        vertical-align: top;\n",
       "    }\n",
       "\n",
       "    .dataframe thead th {\n",
       "        text-align: right;\n",
       "    }\n",
       "</style>\n",
       "<table border=\"1\" class=\"dataframe\">\n",
       "  <thead>\n",
       "    <tr style=\"text-align: right;\">\n",
       "      <th></th>\n",
       "      <th>text</th>\n",
       "      <th>reason</th>\n",
       "      <th>label</th>\n",
       "      <th>sentiment_score</th>\n",
       "      <th>sentiment_label</th>\n",
       "    </tr>\n",
       "  </thead>\n",
       "  <tbody>\n",
       "    <tr>\n",
       "      <th>43</th>\n",
       "      <td>i have not found a setting where these can be ...</td>\n",
       "      <td>uninstalled the app</td>\n",
       "      <td>1</td>\n",
       "      <td>0.0000</td>\n",
       "      <td>1</td>\n",
       "    </tr>\n",
       "    <tr>\n",
       "      <th>1048</th>\n",
       "      <td>may i ask how to send pictures in messenges?</td>\n",
       "      <td>want to send pictures in messages</td>\n",
       "      <td>1</td>\n",
       "      <td>0.0000</td>\n",
       "      <td>1</td>\n",
       "    </tr>\n",
       "    <tr>\n",
       "      <th>431</th>\n",
       "      <td>i do not know why video sy going but voice is ...</td>\n",
       "      <td>voice is mute</td>\n",
       "      <td>1</td>\n",
       "      <td>0.0000</td>\n",
       "      <td>1</td>\n",
       "    </tr>\n",
       "    <tr>\n",
       "      <th>2451</th>\n",
       "      <td>not we not also not have not to not take not n...</td>\n",
       "      <td>want to take notes while splitting screen</td>\n",
       "      <td>1</td>\n",
       "      <td>0.0000</td>\n",
       "      <td>0</td>\n",
       "    </tr>\n",
       "    <tr>\n",
       "      <th>3716</th>\n",
       "      <td>it does not let me relax during class.</td>\n",
       "      <td>want to relax during class</td>\n",
       "      <td>1</td>\n",
       "      <td>-0.3412</td>\n",
       "      <td>0</td>\n",
       "    </tr>\n",
       "  </tbody>\n",
       "</table>\n",
       "</div>\n",
       "      <button class=\"colab-df-convert\" onclick=\"convertToInteractive('df-272687f6-2739-4755-8e4b-d8df4fd0c7f1')\"\n",
       "              title=\"Convert this dataframe to an interactive table.\"\n",
       "              style=\"display:none;\">\n",
       "        \n",
       "  <svg xmlns=\"http://www.w3.org/2000/svg\" height=\"24px\"viewBox=\"0 0 24 24\"\n",
       "       width=\"24px\">\n",
       "    <path d=\"M0 0h24v24H0V0z\" fill=\"none\"/>\n",
       "    <path d=\"M18.56 5.44l.94 2.06.94-2.06 2.06-.94-2.06-.94-.94-2.06-.94 2.06-2.06.94zm-11 1L8.5 8.5l.94-2.06 2.06-.94-2.06-.94L8.5 2.5l-.94 2.06-2.06.94zm10 10l.94 2.06.94-2.06 2.06-.94-2.06-.94-.94-2.06-.94 2.06-2.06.94z\"/><path d=\"M17.41 7.96l-1.37-1.37c-.4-.4-.92-.59-1.43-.59-.52 0-1.04.2-1.43.59L10.3 9.45l-7.72 7.72c-.78.78-.78 2.05 0 2.83L4 21.41c.39.39.9.59 1.41.59.51 0 1.02-.2 1.41-.59l7.78-7.78 2.81-2.81c.8-.78.8-2.07 0-2.86zM5.41 20L4 18.59l7.72-7.72 1.47 1.35L5.41 20z\"/>\n",
       "  </svg>\n",
       "      </button>\n",
       "      \n",
       "  <style>\n",
       "    .colab-df-container {\n",
       "      display:flex;\n",
       "      flex-wrap:wrap;\n",
       "      gap: 12px;\n",
       "    }\n",
       "\n",
       "    .colab-df-convert {\n",
       "      background-color: #E8F0FE;\n",
       "      border: none;\n",
       "      border-radius: 50%;\n",
       "      cursor: pointer;\n",
       "      display: none;\n",
       "      fill: #1967D2;\n",
       "      height: 32px;\n",
       "      padding: 0 0 0 0;\n",
       "      width: 32px;\n",
       "    }\n",
       "\n",
       "    .colab-df-convert:hover {\n",
       "      background-color: #E2EBFA;\n",
       "      box-shadow: 0px 1px 2px rgba(60, 64, 67, 0.3), 0px 1px 3px 1px rgba(60, 64, 67, 0.15);\n",
       "      fill: #174EA6;\n",
       "    }\n",
       "\n",
       "    [theme=dark] .colab-df-convert {\n",
       "      background-color: #3B4455;\n",
       "      fill: #D2E3FC;\n",
       "    }\n",
       "\n",
       "    [theme=dark] .colab-df-convert:hover {\n",
       "      background-color: #434B5C;\n",
       "      box-shadow: 0px 1px 3px 1px rgba(0, 0, 0, 0.15);\n",
       "      filter: drop-shadow(0px 1px 2px rgba(0, 0, 0, 0.3));\n",
       "      fill: #FFFFFF;\n",
       "    }\n",
       "  </style>\n",
       "\n",
       "      <script>\n",
       "        const buttonEl =\n",
       "          document.querySelector('#df-272687f6-2739-4755-8e4b-d8df4fd0c7f1 button.colab-df-convert');\n",
       "        buttonEl.style.display =\n",
       "          google.colab.kernel.accessAllowed ? 'block' : 'none';\n",
       "\n",
       "        async function convertToInteractive(key) {\n",
       "          const element = document.querySelector('#df-272687f6-2739-4755-8e4b-d8df4fd0c7f1');\n",
       "          const dataTable =\n",
       "            await google.colab.kernel.invokeFunction('convertToInteractive',\n",
       "                                                     [key], {});\n",
       "          if (!dataTable) return;\n",
       "\n",
       "          const docLinkHtml = 'Like what you see? Visit the ' +\n",
       "            '<a target=\"_blank\" href=https://colab.research.google.com/notebooks/data_table.ipynb>data table notebook</a>'\n",
       "            + ' to learn more about interactive tables.';\n",
       "          element.innerHTML = '';\n",
       "          dataTable['output_type'] = 'display_data';\n",
       "          await google.colab.output.renderOutput(dataTable, element);\n",
       "          const docLink = document.createElement('div');\n",
       "          docLink.innerHTML = docLinkHtml;\n",
       "          element.appendChild(docLink);\n",
       "        }\n",
       "      </script>\n",
       "    </div>\n",
       "  </div>\n",
       "  "
      ],
      "text/plain": [
       "                                                   text  \\\n",
       "43    i have not found a setting where these can be ...   \n",
       "1048       may i ask how to send pictures in messenges?   \n",
       "431   i do not know why video sy going but voice is ...   \n",
       "2451  not we not also not have not to not take not n...   \n",
       "3716             it does not let me relax during class.   \n",
       "\n",
       "                                         reason  label  sentiment_score  \\\n",
       "43                          uninstalled the app      1           0.0000   \n",
       "1048          want to send pictures in messages      1           0.0000   \n",
       "431                               voice is mute      1           0.0000   \n",
       "2451  want to take notes while splitting screen      1           0.0000   \n",
       "3716                 want to relax during class      1          -0.3412   \n",
       "\n",
       "      sentiment_label  \n",
       "43                  1  \n",
       "1048                1  \n",
       "431                 1  \n",
       "2451                0  \n",
       "3716                0  "
      ]
     },
     "execution_count": 95,
     "metadata": {},
     "output_type": "execute_result"
    }
   ],
   "source": [
    "df_balanced.sample(5)"
   ]
  },
  {
   "cell_type": "code",
   "execution_count": null,
   "metadata": {
    "colab": {
     "base_uri": "https://localhost:8080/"
    },
    "id": "-KgBvAQvszzb",
    "outputId": "195bffec-035c-40d2-8d5c-25a58de10f90"
   },
   "outputs": [
    {
     "name": "stdout",
     "output_type": "stream",
     "text": [
      "\u001b[2K     \u001b[90m━━━━━━━━━━━━━━━━━━━━━━━━━━━━━━━━━━━━━━━━\u001b[0m \u001b[32m2.3/2.3 MB\u001b[0m \u001b[31m52.2 MB/s\u001b[0m eta \u001b[36m0:00:00\u001b[0m\n",
      "\u001b[2K     \u001b[90m━━━━━━━━━━━━━━━━━━━━━━━━━━━━━━━━━━━━━━━━\u001b[0m \u001b[32m1.3/1.3 MB\u001b[0m \u001b[31m51.3 MB/s\u001b[0m eta \u001b[36m0:00:00\u001b[0m\n",
      "\u001b[2K     \u001b[90m━━━━━━━━━━━━━━━━━━━━━━━━━━━━━━━━━━━━━━\u001b[0m \u001b[32m118.9/118.9 KB\u001b[0m \u001b[31m16.4 MB/s\u001b[0m eta \u001b[36m0:00:00\u001b[0m\n",
      "\u001b[2K     \u001b[90m━━━━━━━━━━━━━━━━━━━━━━━━━━━━━━━━━━━━━━\u001b[0m \u001b[32m630.1/630.1 KB\u001b[0m \u001b[31m46.7 MB/s\u001b[0m eta \u001b[36m0:00:00\u001b[0m\n",
      "\u001b[2K     \u001b[90m━━━━━━━━━━━━━━━━━━━━━━━━━━━━━━━━━━━━━━\u001b[0m \u001b[32m238.9/238.9 KB\u001b[0m \u001b[31m24.4 MB/s\u001b[0m eta \u001b[36m0:00:00\u001b[0m\n",
      "\u001b[2K     \u001b[90m━━━━━━━━━━━━━━━━━━━━━━━━━━━━━━━━━━━━━━━━\u001b[0m \u001b[32m1.1/1.1 MB\u001b[0m \u001b[31m65.5 MB/s\u001b[0m eta \u001b[36m0:00:00\u001b[0m\n",
      "\u001b[2K     \u001b[90m━━━━━━━━━━━━━━━━━━━━━━━━━━━━━━━━━━━━━━━━\u001b[0m \u001b[32m43.6/43.6 KB\u001b[0m \u001b[31m6.5 MB/s\u001b[0m eta \u001b[36m0:00:00\u001b[0m\n",
      "\u001b[?25h  Preparing metadata (setup.py) ... \u001b[?25l\u001b[?25hdone\n",
      "\u001b[2K     \u001b[90m━━━━━━━━━━━━━━━━━━━━━━━━━━━━━━━━━━━━━━━━\u001b[0m \u001b[32m38.2/38.2 MB\u001b[0m \u001b[31m16.6 MB/s\u001b[0m eta \u001b[36m0:00:00\u001b[0m\n",
      "\u001b[?25h  Building wheel for seqeval (setup.py) ... \u001b[?25l\u001b[?25hdone\n"
     ]
    }
   ],
   "source": [
    "pip install -q tf-models-official==2.11.0"
   ]
  },
  {
   "cell_type": "code",
   "execution_count": 96,
   "metadata": {
    "id": "kIJpaB7QWKSw"
   },
   "outputs": [],
   "source": [
    "import re"
   ]
  },
  {
   "cell_type": "markdown",
   "metadata": {},
   "source": [
    "This function is used as a preprocessing step to remove unwanted characters or symbols from a text corpus before further analysis or processing is done."
   ]
  },
  {
   "cell_type": "code",
   "execution_count": 97,
   "metadata": {
    "id": "iFNTzX2nWNQo"
   },
   "outputs": [],
   "source": [
    "def clean (text):\n",
    "    clean_text = re.sub(r'[^\\w\\s]', '', text)\n",
    "    return clean_text\n",
    "    "
   ]
  },
  {
   "cell_type": "code",
   "execution_count": 98,
   "metadata": {
    "colab": {
     "base_uri": "https://localhost:8080/",
     "height": 237
    },
    "id": "X1OCNmPzWPxg",
    "outputId": "43c2b936-4d6b-4612-8b25-e2921f4f45a3"
   },
   "outputs": [
    {
     "data": {
      "text/html": [
       "\n",
       "  <div id=\"df-2c4960bc-35ec-4b55-8cd4-1073230b1875\">\n",
       "    <div class=\"colab-df-container\">\n",
       "      <div>\n",
       "<style scoped>\n",
       "    .dataframe tbody tr th:only-of-type {\n",
       "        vertical-align: middle;\n",
       "    }\n",
       "\n",
       "    .dataframe tbody tr th {\n",
       "        vertical-align: top;\n",
       "    }\n",
       "\n",
       "    .dataframe thead th {\n",
       "        text-align: right;\n",
       "    }\n",
       "</style>\n",
       "<table border=\"1\" class=\"dataframe\">\n",
       "  <thead>\n",
       "    <tr style=\"text-align: right;\">\n",
       "      <th></th>\n",
       "      <th>text</th>\n",
       "      <th>reason</th>\n",
       "      <th>label</th>\n",
       "      <th>sentiment_score</th>\n",
       "      <th>sentiment_label</th>\n",
       "    </tr>\n",
       "  </thead>\n",
       "  <tbody>\n",
       "    <tr>\n",
       "      <th>1074</th>\n",
       "      <td>it does not connect me with people to play min...</td>\n",
       "      <td>it does not connect me with people to play min...</td>\n",
       "      <td>1</td>\n",
       "      <td>0.4003</td>\n",
       "      <td>1</td>\n",
       "    </tr>\n",
       "    <tr>\n",
       "      <th>3486</th>\n",
       "      <td>zoom will not tell me create an account</td>\n",
       "      <td>zoom will not tell me create an account</td>\n",
       "      <td>1</td>\n",
       "      <td>-0.2057</td>\n",
       "      <td>0</td>\n",
       "    </tr>\n",
       "    <tr>\n",
       "      <th>3846</th>\n",
       "      <td>absolutely slurred application in the interfac...</td>\n",
       "      <td>absolutely slurred application in the interfac...</td>\n",
       "      <td>1</td>\n",
       "      <td>-0.6597</td>\n",
       "      <td>0</td>\n",
       "    </tr>\n",
       "    <tr>\n",
       "      <th>1759</th>\n",
       "      <td>does not work on a samsung s7plus tablet</td>\n",
       "      <td>does not work on a samsung s7plus tablet</td>\n",
       "      <td>1</td>\n",
       "      <td>0.0000</td>\n",
       "      <td>1</td>\n",
       "    </tr>\n",
       "    <tr>\n",
       "      <th>1367</th>\n",
       "      <td>network speed is sharp but zoom app is slower</td>\n",
       "      <td>network speed is sharp but zoom app is slower</td>\n",
       "      <td>1</td>\n",
       "      <td>0.0000</td>\n",
       "      <td>1</td>\n",
       "    </tr>\n",
       "    <tr>\n",
       "      <th>3706</th>\n",
       "      <td>i am not able to join audio on pc with my phon...</td>\n",
       "      <td>i am not able to join audio on pc with my phon...</td>\n",
       "      <td>1</td>\n",
       "      <td>-0.4519</td>\n",
       "      <td>0</td>\n",
       "    </tr>\n",
       "  </tbody>\n",
       "</table>\n",
       "</div>\n",
       "      <button class=\"colab-df-convert\" onclick=\"convertToInteractive('df-2c4960bc-35ec-4b55-8cd4-1073230b1875')\"\n",
       "              title=\"Convert this dataframe to an interactive table.\"\n",
       "              style=\"display:none;\">\n",
       "        \n",
       "  <svg xmlns=\"http://www.w3.org/2000/svg\" height=\"24px\"viewBox=\"0 0 24 24\"\n",
       "       width=\"24px\">\n",
       "    <path d=\"M0 0h24v24H0V0z\" fill=\"none\"/>\n",
       "    <path d=\"M18.56 5.44l.94 2.06.94-2.06 2.06-.94-2.06-.94-.94-2.06-.94 2.06-2.06.94zm-11 1L8.5 8.5l.94-2.06 2.06-.94-2.06-.94L8.5 2.5l-.94 2.06-2.06.94zm10 10l.94 2.06.94-2.06 2.06-.94-2.06-.94-.94-2.06-.94 2.06-2.06.94z\"/><path d=\"M17.41 7.96l-1.37-1.37c-.4-.4-.92-.59-1.43-.59-.52 0-1.04.2-1.43.59L10.3 9.45l-7.72 7.72c-.78.78-.78 2.05 0 2.83L4 21.41c.39.39.9.59 1.41.59.51 0 1.02-.2 1.41-.59l7.78-7.78 2.81-2.81c.8-.78.8-2.07 0-2.86zM5.41 20L4 18.59l7.72-7.72 1.47 1.35L5.41 20z\"/>\n",
       "  </svg>\n",
       "      </button>\n",
       "      \n",
       "  <style>\n",
       "    .colab-df-container {\n",
       "      display:flex;\n",
       "      flex-wrap:wrap;\n",
       "      gap: 12px;\n",
       "    }\n",
       "\n",
       "    .colab-df-convert {\n",
       "      background-color: #E8F0FE;\n",
       "      border: none;\n",
       "      border-radius: 50%;\n",
       "      cursor: pointer;\n",
       "      display: none;\n",
       "      fill: #1967D2;\n",
       "      height: 32px;\n",
       "      padding: 0 0 0 0;\n",
       "      width: 32px;\n",
       "    }\n",
       "\n",
       "    .colab-df-convert:hover {\n",
       "      background-color: #E2EBFA;\n",
       "      box-shadow: 0px 1px 2px rgba(60, 64, 67, 0.3), 0px 1px 3px 1px rgba(60, 64, 67, 0.15);\n",
       "      fill: #174EA6;\n",
       "    }\n",
       "\n",
       "    [theme=dark] .colab-df-convert {\n",
       "      background-color: #3B4455;\n",
       "      fill: #D2E3FC;\n",
       "    }\n",
       "\n",
       "    [theme=dark] .colab-df-convert:hover {\n",
       "      background-color: #434B5C;\n",
       "      box-shadow: 0px 1px 3px 1px rgba(0, 0, 0, 0.15);\n",
       "      filter: drop-shadow(0px 1px 2px rgba(0, 0, 0, 0.3));\n",
       "      fill: #FFFFFF;\n",
       "    }\n",
       "  </style>\n",
       "\n",
       "      <script>\n",
       "        const buttonEl =\n",
       "          document.querySelector('#df-2c4960bc-35ec-4b55-8cd4-1073230b1875 button.colab-df-convert');\n",
       "        buttonEl.style.display =\n",
       "          google.colab.kernel.accessAllowed ? 'block' : 'none';\n",
       "\n",
       "        async function convertToInteractive(key) {\n",
       "          const element = document.querySelector('#df-2c4960bc-35ec-4b55-8cd4-1073230b1875');\n",
       "          const dataTable =\n",
       "            await google.colab.kernel.invokeFunction('convertToInteractive',\n",
       "                                                     [key], {});\n",
       "          if (!dataTable) return;\n",
       "\n",
       "          const docLinkHtml = 'Like what you see? Visit the ' +\n",
       "            '<a target=\"_blank\" href=https://colab.research.google.com/notebooks/data_table.ipynb>data table notebook</a>'\n",
       "            + ' to learn more about interactive tables.';\n",
       "          element.innerHTML = '';\n",
       "          dataTable['output_type'] = 'display_data';\n",
       "          await google.colab.output.renderOutput(dataTable, element);\n",
       "          const docLink = document.createElement('div');\n",
       "          docLink.innerHTML = docLinkHtml;\n",
       "          element.appendChild(docLink);\n",
       "        }\n",
       "      </script>\n",
       "    </div>\n",
       "  </div>\n",
       "  "
      ],
      "text/plain": [
       "                                                   text  \\\n",
       "1074  it does not connect me with people to play min...   \n",
       "3486            zoom will not tell me create an account   \n",
       "3846  absolutely slurred application in the interfac...   \n",
       "1759           does not work on a samsung s7plus tablet   \n",
       "1367      network speed is sharp but zoom app is slower   \n",
       "3706  i am not able to join audio on pc with my phon...   \n",
       "\n",
       "                                                 reason  label  \\\n",
       "1074  it does not connect me with people to play min...      1   \n",
       "3486            zoom will not tell me create an account      1   \n",
       "3846  absolutely slurred application in the interfac...      1   \n",
       "1759           does not work on a samsung s7plus tablet      1   \n",
       "1367      network speed is sharp but zoom app is slower      1   \n",
       "3706  i am not able to join audio on pc with my phon...      1   \n",
       "\n",
       "      sentiment_score  sentiment_label  \n",
       "1074           0.4003                1  \n",
       "3486          -0.2057                0  \n",
       "3846          -0.6597                0  \n",
       "1759           0.0000                1  \n",
       "1367           0.0000                1  \n",
       "3706          -0.4519                0  "
      ]
     },
     "execution_count": 98,
     "metadata": {},
     "output_type": "execute_result"
    }
   ],
   "source": [
    "df_balanced['text'] = df_balanced.text.apply(clean)\n",
    "df_balanced['reason'] = df_balanced.text.apply(clean)\n",
    "df_balanced.sample(6)"
   ]
  },
  {
   "cell_type": "markdown",
   "metadata": {},
   "source": [
    "# Train Test Split\n",
    "<a id='section-5'></a>"
   ]
  },
  {
   "cell_type": "markdown",
   "metadata": {},
   "source": [
    "Split the balanced dataset into training and testing sets"
   ]
  },
  {
   "cell_type": "markdown",
   "metadata": {},
   "source": [
    "The training set is used to train the model, while the testing set is used to evaluate its performance."
   ]
  },
  {
   "cell_type": "code",
   "execution_count": 100,
   "metadata": {
    "id": "bIm795CPN2KL"
   },
   "outputs": [],
   "source": [
    "from sklearn.model_selection import train_test_split\n",
    "\n",
    "X_train, X_test, y_train, y_test = train_test_split(df_balanced['text'], df_balanced['sentiment_label'], test_size=0.33, random_state=42)"
   ]
  },
  {
   "cell_type": "code",
   "execution_count": 38,
   "metadata": {
    "id": "O8Oj0t31uUfr"
   },
   "outputs": [],
   "source": [
    "import tensorflow_text as text"
   ]
  },
  {
   "cell_type": "code",
   "execution_count": 39,
   "metadata": {
    "id": "HfkcYAhBukXu"
   },
   "outputs": [],
   "source": [
    "import tensorflow_hub as hub"
   ]
  },
  {
   "cell_type": "code",
   "execution_count": 40,
   "metadata": {
    "id": "bnrgZkkyuoFv"
   },
   "outputs": [],
   "source": [
    "import tensorflow as tf"
   ]
  },
  {
   "cell_type": "markdown",
   "metadata": {},
   "source": [
    "# BERT Preprocessing and Encoding Layers Initialization\n",
    "<a id='section-6'></a>"
   ]
  },
  {
   "cell_type": "markdown",
   "metadata": {},
   "source": [
    "The BERT Preprocessing and Encoding Layers are two TensorFlow Hub modules used for preparing text data for BERT (Bidirectional Encoder Representations from Transformers), a pre-trained deep learning model that has shown state-of-the-art performance in various natural language processing tasks such as sentiment analysis, question answering, and named entity recognition.\n",
    "\n",
    "The BERT Preprocessing Layer performs several tasks, including lowercasing text, tokenization, and adding special tokens such as [CLS] and [SEP]. It also truncates or pads sequences to a fixed length and generates input masks and segment IDs required for BERT input format.\n",
    "\n",
    "The BERT Encoding Layer is responsible for encoding the processed text data into numerical embeddings using the pre-trained BERT model. It generates contextualized embeddings, which means that each word's representation depends not only on the word itself but also on the surrounding words in the sequence.\n",
    "\n",
    "Using these two layers provides several benefits, including faster and more efficient processing of text data, improved performance on natural language processing tasks, and the ability to fine-tune the pre-trained BERT model for specific downstream tasks."
   ]
  },
  {
   "cell_type": "code",
   "execution_count": 41,
   "metadata": {
    "id": "KCM4RjmLufJj"
   },
   "outputs": [],
   "source": [
    "bert_preprocess = hub.KerasLayer(\"https://tfhub.dev/tensorflow/bert_en_uncased_preprocess/3\")\n",
    "bert_encoder = hub.KerasLayer(\"https://tfhub.dev/tensorflow/bert_en_uncased_L-12_H-768_A-12/4\")"
   ]
  },
  {
   "cell_type": "markdown",
   "metadata": {},
   "source": [
    "The above code initializes two TensorFlow Hub layers for BERT preprocessing and encoding.\n",
    "\n",
    "The first layer is bert_en_uncased_preprocess, which performs tokenization and other preprocessing steps required by BERT. It takes raw text as input and outputs a dictionary of tokenized and encoded features.\n",
    "\n",
    "The second layer is bert_en_uncased_L-12_H-768_A-12, which is a pre-trained BERT model with 12 layers, 768 hidden units, and 12 attention heads. It encodes the preprocessed input text using BERT's transformer architecture and outputs a fixed-length vector representation for each input."
   ]
  },
  {
   "cell_type": "markdown",
   "metadata": {},
   "source": [
    "## BERT-based sentiment analysis model architecture"
   ]
  },
  {
   "cell_type": "markdown",
   "metadata": {},
   "source": [
    "This code initializes the architecture for a BERT-based sentiment analysis model. The model uses the BERT preprocessing and encoding layers provided by the TensorFlow Hub library.\n",
    "\n",
    "The first step is to create an input layer to receive the text data. The input is a string of variable length. The input shape is specified as an empty tuple, and the input data type is set to string. The name of the layer is set as \"text\".\n",
    "\n",
    "Next, the input is passed through the BERT preprocessing layer to convert the input text to tokens and perform other preprocessing tasks. The preprocessed text is then passed through the BERT encoding layer to generate the output.\n",
    "\n",
    "The output of the BERT encoding layer is then passed through a dropout layer with a dropout rate of 0.1. Dropout is a regularization technique that randomly drops out a certain percentage of units in a layer during training to prevent overfitting.\n",
    "\n",
    "Finally, the output of the dropout layer is passed through a dense layer with a sigmoid activation function. The dense layer produces a scalar output between 0 and 1 that represents the predicted probability of the input text being classified as positive.\n",
    "\n",
    "The completed model takes in input text and outputs the predicted sentiment label."
   ]
  },
  {
   "cell_type": "code",
   "execution_count": 42,
   "metadata": {
    "colab": {
     "base_uri": "https://localhost:8080/"
    },
    "id": "y5X3Gokmu5PO",
    "outputId": "dbcff773-7131-4708-8f04-a072cf9bf3cb"
   },
   "outputs": [
    {
     "name": "stderr",
     "output_type": "stream",
     "text": [
      "WARNING:tensorflow:From /usr/local/lib/python3.9/dist-packages/tensorflow/python/autograph/pyct/static_analysis/liveness.py:83: Analyzer.lamba_check (from tensorflow.python.autograph.pyct.static_analysis.liveness) is deprecated and will be removed after 2023-09-23.\n",
      "Instructions for updating:\n",
      "Lambda fuctions will be no more assumed to be used in the statement where they are used, or at least in the same block. https://github.com/tensorflow/tensorflow/issues/56089\n"
     ]
    }
   ],
   "source": [
    "# Bert layers\n",
    "text_input = tf.keras.layers.Input(shape=(), dtype=tf.string, name='text')\n",
    "preprocessed_text = bert_preprocess(text_input)\n",
    "outputs = bert_encoder(preprocessed_text)\n",
    "\n",
    "# Neural network layers\n",
    "l = tf.keras.layers.Dropout(0.1, name=\"dropout\")(outputs['pooled_output'])\n",
    "l = tf.keras.layers.Dense(1, activation='sigmoid', name=\"output\")(l)\n",
    "\n",
    "# Use inputs and outputs to construct a final model\n",
    "model = tf.keras.Model(inputs=[text_input], outputs = [l])"
   ]
  },
  {
   "cell_type": "code",
   "execution_count": 43,
   "metadata": {
    "colab": {
     "base_uri": "https://localhost:8080/"
    },
    "id": "cntfA-tiu6Dv",
    "outputId": "206b0716-332a-4177-b350-e96c9f93efee"
   },
   "outputs": [
    {
     "name": "stdout",
     "output_type": "stream",
     "text": [
      "Model: \"model\"\n",
      "__________________________________________________________________________________________________\n",
      " Layer (type)                   Output Shape         Param #     Connected to                     \n",
      "==================================================================================================\n",
      " text (InputLayer)              [(None,)]            0           []                               \n",
      "                                                                                                  \n",
      " keras_layer (KerasLayer)       {'input_type_ids':   0           ['text[0][0]']                   \n",
      "                                (None, 128),                                                      \n",
      "                                 'input_mask': (Non                                               \n",
      "                                e, 128),                                                          \n",
      "                                 'input_word_ids':                                                \n",
      "                                (None, 128)}                                                      \n",
      "                                                                                                  \n",
      " keras_layer_1 (KerasLayer)     {'sequence_output':  109482241   ['keras_layer[0][0]',            \n",
      "                                 (None, 128, 768),                'keras_layer[0][1]',            \n",
      "                                 'pooled_output': (               'keras_layer[0][2]']            \n",
      "                                None, 768),                                                       \n",
      "                                 'encoder_outputs':                                               \n",
      "                                 [(None, 128, 768),                                               \n",
      "                                 (None, 128, 768),                                                \n",
      "                                 (None, 128, 768),                                                \n",
      "                                 (None, 128, 768),                                                \n",
      "                                 (None, 128, 768),                                                \n",
      "                                 (None, 128, 768),                                                \n",
      "                                 (None, 128, 768),                                                \n",
      "                                 (None, 128, 768),                                                \n",
      "                                 (None, 128, 768),                                                \n",
      "                                 (None, 128, 768),                                                \n",
      "                                 (None, 128, 768),                                                \n",
      "                                 (None, 128, 768)],                                               \n",
      "                                 'default': (None,                                                \n",
      "                                768)}                                                             \n",
      "                                                                                                  \n",
      " dropout (Dropout)              (None, 768)          0           ['keras_layer_1[0][13]']         \n",
      "                                                                                                  \n",
      " output (Dense)                 (None, 1)            769         ['dropout[0][0]']                \n",
      "                                                                                                  \n",
      "==================================================================================================\n",
      "Total params: 109,483,010\n",
      "Trainable params: 769\n",
      "Non-trainable params: 109,482,241\n",
      "__________________________________________________________________________________________________\n"
     ]
    }
   ],
   "source": [
    "model.summary()"
   ]
  },
  {
   "cell_type": "markdown",
   "metadata": {},
   "source": [
    "# Model Compilation and Metrics Selection\n",
    "<a id='section-7'></a>"
   ]
  },
  {
   "cell_type": "markdown",
   "metadata": {},
   "source": [
    "After initializing the BERT preprocessing and encoding layers, the neural network layers are added to the model. Then, the model is compiled using the Adam optimizer and binary crossentropy loss function. In addition, three metrics are selected to evaluate the model's performance, including binary accuracy, precision, and recall. These metrics are commonly used in binary classification tasks, where the goal is to correctly classify instances into one of two classes. The binary accuracy measures the proportion of instances that are correctly classified, while precision measures the proportion of true positives among all predicted positives, and recall measures the proportion of true positives among all actual positives. By using these metrics, we can gain insights into different aspects of the model's performance and identify areas for improvement."
   ]
  },
  {
   "cell_type": "code",
   "execution_count": 74,
   "metadata": {
    "id": "9_DkLd0mu94E"
   },
   "outputs": [],
   "source": [
    "METRICS = [\n",
    "      tf.keras.metrics.BinaryAccuracy(name='accuracy'),\n",
    "      tf.keras.metrics.Precision(name='precision'),\n",
    "      tf.keras.metrics.Recall(name='recall')\n",
    "]\n",
    "\n",
    "model.compile(optimizer='adam',\n",
    "              loss='binary_crossentropy',\n",
    "              metrics=METRICS)"
   ]
  },
  {
   "cell_type": "code",
   "execution_count": 101,
   "metadata": {
    "colab": {
     "base_uri": "https://localhost:8080/"
    },
    "id": "DnhLfC-_vBou",
    "outputId": "ddea3e64-da74-45b9-dc87-5e3c52a5aa17"
   },
   "outputs": [
    {
     "data": {
      "text/plain": [
       "((2761,), (2761,))"
      ]
     },
     "execution_count": 101,
     "metadata": {},
     "output_type": "execute_result"
    }
   ],
   "source": [
    "X_train.shape,y_train.shape"
   ]
  },
  {
   "cell_type": "code",
   "execution_count": 102,
   "metadata": {
    "colab": {
     "base_uri": "https://localhost:8080/"
    },
    "id": "ySUsHcb943ZJ",
    "outputId": "147c9758-9ca9-470c-f3a8-caa91ca53f3f"
   },
   "outputs": [
    {
     "name": "stdout",
     "output_type": "stream",
     "text": [
      "(2761,)\n"
     ]
    },
    {
     "data": {
      "text/plain": [
       "1328    the meeting will start but in zoom you install...\n",
       "2672    not and not why not we not can not not not tak...\n",
       "2550    not and not you not know not how not you not c...\n",
       "2306    not there not is not the not ability not to no...\n",
       "3298      not best not platform not for not entertainment\n",
       "Name: text, dtype: object"
      ]
     },
     "execution_count": 102,
     "metadata": {},
     "output_type": "execute_result"
    }
   ],
   "source": [
    "print(X_train.shape)\n",
    "X_train.sample(5)"
   ]
  },
  {
   "cell_type": "markdown",
   "metadata": {},
   "source": [
    "This line of code trains the BERT model on the training data (X_train and y_train) for 10 epochs using the fit method. During each epoch, the model will make predictions on the training data, compute the loss based on the difference between the predicted and actual labels, and update the model's parameters using backpropagation to minimize the loss. The fit method will also compute the specified metrics (BinaryAccuracy, Precision, and Recall) on the training data after each epoch. The trained model will be saved in the model variable."
   ]
  },
  {
   "cell_type": "markdown",
   "metadata": {},
   "source": [
    "# Model Training \n",
    "<a id='section-8'></a>"
   ]
  },
  {
   "cell_type": "code",
   "execution_count": 103,
   "metadata": {
    "colab": {
     "base_uri": "https://localhost:8080/"
    },
    "id": "nUKVeepcwREy",
    "outputId": "c010343b-e55d-4b08-9343-3f131cfd835e"
   },
   "outputs": [
    {
     "name": "stdout",
     "output_type": "stream",
     "text": [
      "Epoch 1/10\n",
      "87/87 [==============================] - 33s 361ms/step - loss: 0.4038 - accuracy: 0.8233 - precision: 0.7758 - recall: 0.9014\n",
      "Epoch 2/10\n",
      "87/87 [==============================] - 31s 359ms/step - loss: 0.4005 - accuracy: 0.8254 - precision: 0.7763 - recall: 0.9065\n",
      "Epoch 3/10\n",
      "87/87 [==============================] - 31s 350ms/step - loss: 0.3939 - accuracy: 0.8204 - precision: 0.7740 - recall: 0.8970\n",
      "Epoch 4/10\n",
      "87/87 [==============================] - 31s 355ms/step - loss: 0.3912 - accuracy: 0.8193 - precision: 0.7711 - recall: 0.8999\n",
      "Epoch 5/10\n",
      "87/87 [==============================] - 31s 355ms/step - loss: 0.3877 - accuracy: 0.8287 - precision: 0.7797 - recall: 0.9088\n",
      "Epoch 6/10\n",
      "87/87 [==============================] - 30s 350ms/step - loss: 0.3921 - accuracy: 0.8211 - precision: 0.7764 - recall: 0.8940\n",
      "Epoch 7/10\n",
      "87/87 [==============================] - 30s 343ms/step - loss: 0.3770 - accuracy: 0.8399 - precision: 0.7904 - recall: 0.9183\n",
      "Epoch 8/10\n",
      "87/87 [==============================] - 31s 351ms/step - loss: 0.3766 - accuracy: 0.8301 - precision: 0.7813 - recall: 0.9095\n",
      "Epoch 9/10\n",
      "87/87 [==============================] - 31s 354ms/step - loss: 0.3733 - accuracy: 0.8294 - precision: 0.7810 - recall: 0.9080\n",
      "Epoch 10/10\n",
      "87/87 [==============================] - 31s 355ms/step - loss: 0.3759 - accuracy: 0.8243 - precision: 0.7794 - recall: 0.8970\n"
     ]
    },
    {
     "data": {
      "text/plain": [
       "<keras.callbacks.History at 0x7fcb88da1340>"
      ]
     },
     "execution_count": 103,
     "metadata": {},
     "output_type": "execute_result"
    }
   ],
   "source": [
    "model.fit(X_train, y_train, epochs=10)"
   ]
  },
  {
   "cell_type": "markdown",
   "metadata": {},
   "source": [
    "# Model evaluation\n",
    "<a id='section-9'></a>"
   ]
  },
  {
   "cell_type": "code",
   "execution_count": 104,
   "metadata": {
    "colab": {
     "base_uri": "https://localhost:8080/"
    },
    "id": "vRGaaiQ91XZO",
    "outputId": "58e580d0-b765-422c-ddb9-64f9474c32c7"
   },
   "outputs": [
    {
     "name": "stdout",
     "output_type": "stream",
     "text": [
      "43/43 [==============================] - 16s 364ms/step - loss: 0.3883 - accuracy: 0.8354 - precision: 0.7722 - recall: 0.9658\n"
     ]
    },
    {
     "data": {
      "text/plain": [
       "[0.38829198479652405,\n",
       " 0.8354151248931885,\n",
       " 0.7722095847129822,\n",
       " 0.9658119678497314]"
      ]
     },
     "execution_count": 104,
     "metadata": {},
     "output_type": "execute_result"
    }
   ],
   "source": [
    "model.evaluate(X_test, y_test)"
   ]
  },
  {
   "cell_type": "code",
   "execution_count": 105,
   "metadata": {
    "colab": {
     "base_uri": "https://localhost:8080/"
    },
    "id": "cFfwHkDW8eKx",
    "outputId": "aca8708a-ed0a-48f1-dda6-968ad7a37087"
   },
   "outputs": [
    {
     "name": "stdout",
     "output_type": "stream",
     "text": [
      "43/43 [==============================] - 14s 341ms/step\n"
     ]
    }
   ],
   "source": [
    "y_predicted = model.predict(X_test)\n",
    "y_predicted = y_predicted.flatten()"
   ]
  },
  {
   "cell_type": "code",
   "execution_count": 106,
   "metadata": {
    "colab": {
     "base_uri": "https://localhost:8080/"
    },
    "id": "irEPvxZ81hDV",
    "outputId": "e2cca705-4afd-40aa-e8e2-1f7c930ce470"
   },
   "outputs": [
    {
     "data": {
      "text/plain": [
       "array([1, 1, 1, ..., 1, 1, 0])"
      ]
     },
     "execution_count": 106,
     "metadata": {},
     "output_type": "execute_result"
    }
   ],
   "source": [
    "import numpy as np\n",
    "\n",
    "y_predicted = np.where(y_predicted > 0.5, 1, 0)\n",
    "y_predicted"
   ]
  },
  {
   "cell_type": "code",
   "execution_count": 107,
   "metadata": {
    "colab": {
     "base_uri": "https://localhost:8080/"
    },
    "id": "UMeHuj4E8iN9",
    "outputId": "b0c72d14-2229-4ce0-cfa8-832ee9401a92"
   },
   "outputs": [
    {
     "data": {
      "text/plain": [
       "array([[459, 200],\n",
       "       [ 24, 678]])"
      ]
     },
     "execution_count": 107,
     "metadata": {},
     "output_type": "execute_result"
    }
   ],
   "source": [
    "from sklearn.metrics import confusion_matrix, classification_report\n",
    "\n",
    "cm = confusion_matrix(y_test, y_predicted)\n",
    "cm "
   ]
  },
  {
   "cell_type": "code",
   "execution_count": 108,
   "metadata": {
    "colab": {
     "base_uri": "https://localhost:8080/",
     "height": 466
    },
    "id": "6fY2psoW1j0K",
    "outputId": "44a2be1a-045e-4b51-9c5a-a5c5c0b30bb1"
   },
   "outputs": [
    {
     "data": {
      "text/plain": [
       "Text(50.722222222222214, 0.5, 'Truth')"
      ]
     },
     "execution_count": 108,
     "metadata": {},
     "output_type": "execute_result"
    },
    {
     "data": {
      "image/png": "[encoded data removed]",
      "text/plain": [
       "<Figure size 640x480 with 2 Axes>"
      ]
     },
     "metadata": {},
     "output_type": "display_data"
    }
   ],
   "source": [
    "from matplotlib import pyplot as plt\n",
    "import seaborn as sn\n",
    "sn.heatmap(cm, annot=True, fmt='d')\n",
    "plt.xlabel('Predicted')\n",
    "plt.ylabel('Truth')"
   ]
  },
  {
   "cell_type": "code",
   "execution_count": 109,
   "metadata": {
    "colab": {
     "base_uri": "https://localhost:8080/"
    },
    "id": "sUvzNj5W1lV8",
    "outputId": "cdf27fc9-a851-4453-c40c-61cead5f1e08"
   },
   "outputs": [
    {
     "name": "stdout",
     "output_type": "stream",
     "text": [
      "              precision    recall  f1-score   support\n",
      "\n",
      "           0       0.95      0.70      0.80       659\n",
      "           1       0.77      0.97      0.86       702\n",
      "\n",
      "    accuracy                           0.84      1361\n",
      "   macro avg       0.86      0.83      0.83      1361\n",
      "weighted avg       0.86      0.84      0.83      1361\n",
      "\n"
     ]
    }
   ],
   "source": [
    "print(classification_report(y_test, y_predicted))"
   ]
  },
  {
   "cell_type": "markdown",
   "metadata": {},
   "source": [
    "These are the classification metrics for the model's performance on the test set.\n",
    "\n",
    "Precision: the proportion of predicted positive instances that are actually positive. For class 0, the precision is 0.95 and for class 1, it is 0.77.\n",
    "\n",
    "Recall: the proportion of actual positive instances that are correctly identified as positive. For class 0, the recall is 0.70 and for class 1, it is 0.97.\n",
    "\n",
    "F1-score: the harmonic mean of precision and recall. It is a measure of the balance between precision and recall. For class 0, the F1-score is 0.80 and for class 1, it is 0.86.\n",
    "\n",
    "Support: the number of instances of each class in the test set.\n",
    "\n",
    "The accuracy of the model on the test set is 0.84. The macro average F1-score is 0.83, and the weighted average F1-score is also 0.83."
   ]
  },
  {
   "cell_type": "markdown",
   "metadata": {},
   "source": [
    "# Summary\n",
    "<a id='section-10'></a>"
   ]
  },
  {
   "cell_type": "markdown",
   "metadata": {},
   "source": [
    "The trained BERT model achieved an overall accuracy of 84% on the test set, with a precision of 77% and a recall of 97% for positive sentiment classification, and a precision of 95% and a recall of 70% for negative sentiment classification. This shows that the model is better at identifying positive sentiment compared to negative sentiment. Nonetheless, the balanced dataset and oversampling techniques applied in the preprocessing stage helped improve the performance of the model, making it more robust to class imbalance issues commonly encountered in sentiment analysis tasks."
   ]
  },
  {
   "cell_type": "markdown",
   "metadata": {},
   "source": [
    "# References\n",
    "<a id='section-11'></a>"
   ]
  },
  {
   "cell_type": "markdown",
   "metadata": {},
   "source": [
    "The following are some general references related to the technologies and techniques used in the project:\n",
    "\n",
    "BERT: https://arxiv.org/abs/1810.04805\n",
    "\n",
    "TensorFlow: https://www.tensorflow.org/\n",
    "\n",
    "TextBlob: https://textblob.readthedocs.io/en/dev/\n",
    "\n",
    "Scikit-learn: https://scikit-learn.org/stable/\n",
    "\n",
    "Imbalanced-learn: https://imbalanced-learn.org/\n"
   ]
  }
 ],
 "metadata": {
  "accelerator": "GPU",
  "colab": {
   "provenance": []
  },
  "gpuClass": "standard",
  "kernelspec": {
   "display_name": "Python 3 (ipykernel)",
   "language": "python",
   "name": "python3"
  },
  "language_info": {
   "codemirror_mode": {
    "name": "ipython",
    "version": 3
   },
   "file_extension": ".py",
   "mimetype": "text/x-python",
   "name": "python",
   "nbconvert_exporter": "python",
   "pygments_lexer": "ipython3",
   "version": "3.9.13"
  }
 },
 "nbformat": 4,
 "nbformat_minor": 4
}
